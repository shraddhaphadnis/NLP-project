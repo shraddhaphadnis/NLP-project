{
 "cells": [
  {
   "cell_type": "code",
   "execution_count": 1,
   "metadata": {
    "collapsed": true
   },
   "outputs": [],
   "source": [
    "import urllib\n",
    "from bs4 import BeautifulSoup as bs\n",
    "import nltk"
   ]
  },
  {
   "cell_type": "code",
   "execution_count": 27,
   "metadata": {},
   "outputs": [
    {
     "name": "stdout",
     "output_type": "stream",
     "text": [
      "t\n"
     ]
    }
   ],
   "source": [
    "url =  'https://www.theguardian.com/world/2017/aug/02/sunbathers-killed-as-light-plane-lands-on-beach-in-portugal-reports?utm_source=inshorts&utm_medium=referral&utm_campaign=fullarticle'\n",
    "if \"indiatoday\" in url or \"intoday\" in url:\n",
    "    baseurl = \"i\"\n",
    "elif \"hindustantimes\" in url:\n",
    "    baseurl = \"h\"\n",
    "elif \"theguardian\" in url:\n",
    "    baseurl = \"t\"\n",
    "print baseurl\n",
    "file = urllib.urlopen(url)\n",
    "\n",
    "html = file.read()"
   ]
  },
  {
   "cell_type": "code",
   "execution_count": 28,
   "metadata": {
    "collapsed": true
   },
   "outputs": [],
   "source": [
    "soup = bs(html, 'html.parser')"
   ]
  },
  {
   "cell_type": "code",
   "execution_count": 29,
   "metadata": {
    "collapsed": true
   },
   "outputs": [],
   "source": [
    "if baseurl == \"i\":\n",
    "    entries = soup.find_all('div',{'class':'description'})\n",
    "elif baseurl == \"t\":\n",
    "    entries = soup.find_all('div',{'itemprop':'articleBody'})\n",
    "elif baseurl == \"h\":\n",
    "    entries = soup.find_all('div',{'itemprop':'articlebody'})\n",
    "\n",
    "for each in entries:\n",
    "        if each.figure:\n",
    "            each.figure.decompose()"
   ]
  },
  {
   "cell_type": "code",
   "execution_count": 31,
   "metadata": {},
   "outputs": [
    {
     "name": "stdout",
     "output_type": "stream",
     "text": [
      "Two people were killed when a light plane made an emergency landing on a beach near Lisbon, Portuguese authorities have said. \n",
      "\n",
      "The two sunbathers, a 56-year-old man and an eight-year-old girl, died while others ran into the sea when the plane came down on Wednesday. \n",
      "\n",
      "Hundreds of sunbathers were on the popular So Joo da Caparica beach, 12 miles (20km) to the south of Lisbon, at the time. \n",
      "\n",
      "Officials said they were not aware of any other injuries. \n",
      "\n",
      "A plane with two people on board made an emergency landing on So Joo da Caparica beach, striking two sunbathers and causing their deaths, Portugals national maritime authority said in a statement. \n",
      "\n",
      "It happened very fast, there was no chance to prepare ... to run, Enrique Coelho, who was playing with his son at the beach and saw the plane crash, told local media. \n",
      "\n",
      "The victims were hit by the plane, the commander of the port of Lisbon, Jose Isabel, confirmed. \n",
      "\n",
      "The two occupants of the plane were unhurt and were being questioned by officers from Portugals national maritime police. \n",
      "\n",
      "The small aircraft, a Cessna, appeared to be in difficulty and wobbled as it skimmed low over the sunbathers, scattering them and spreading panic on the beach, witnesses said. \n",
      "\n",
      "The plane appeared to have a partly broken left wing, which hung lower than the right wing, according to Portuguese TV pictures. \n",
      "\n",
      "Local reports said the aircraft was registered to a flying school in Torres Vedras. \n",
      "\n",
      "The Portuguese newspaper Dirio de Notcias reported that the Aerocondor aviation school in Cascais had confirmed the aircraft  a Cessna CSAVA  was on a training flight with one student and one senior instructor, who had high experience and thousands of hours of flying time. \n",
      "\n",
      "The dead girl was with her parents, who were unhurt, witnesses told local media. \n",
      "\n",
      "The plane passed over the dead mans legs as he sunbathed on a towel, they said. \n",
      "\n",
      "One witness, Rita Rogado, 20, told the Pblico newspaper that the plane crashed right by the sea, dragging her along for a few metres in the sand. \n",
      "\n",
      "Some sunbathers said the plane appeared to be gliding, as they heard no engine noise. \n",
      "\n",
      "This article was amended on 3 August 2017. \n",
      "\n",
      "An earlier version said So Joo da Caparica beach was 20 miles south of Lisbon. \n",
      "\n",
      "This has been corrected to 12 miles. \n",
      "\n",
      "Two people were killed when a light plane made an emergency landing on a beach near Lisbon, Portuguese authorities have said. \n",
      "\n",
      "The two sunbathers, a 56-year-old man and an eight-year-old girl, died while others ran into the sea when the plane came down on Wednesday. \n",
      "\n",
      "Hundreds of sunbathers were on the popular So Joo da Caparica beach, 12 miles (20km) to the south of Lisbon, at the time. \n",
      "\n",
      "Officials said they were not aware of any other injuries. \n",
      "\n",
      "A plane with two people on board made an emergency landing on So Joo da Caparica beach, striking two sunbathers and causing their deaths, Portugals national maritime authority said in a statement. \n",
      "\n",
      "It happened very fast, there was no chance to prepare ... to run, Enrique Coelho, who was playing with his son at the beach and saw the plane crash, told local media. \n",
      "\n",
      "The victims were hit by the plane, the commander of the port of Lisbon, Jose Isabel, confirmed. \n",
      "\n",
      "The two occupants of the plane were unhurt and were being questioned by officers from Portugals national maritime police. \n",
      "\n",
      "The small aircraft, a Cessna, appeared to be in difficulty and wobbled as it skimmed low over the sunbathers, scattering them and spreading panic on the beach, witnesses said. \n",
      "\n",
      "The plane appeared to have a partly broken left wing, which hung lower than the right wing, according to Portuguese TV pictures. \n",
      "\n",
      "Local reports said the aircraft was registered to a flying school in Torres Vedras. \n",
      "\n",
      "The Portuguese newspaper Dirio de Notcias reported that the Aerocondor aviation school in Cascais had confirmed the aircraft  a Cessna CSAVA  was on a training flight with one student and one senior instructor, who had high experience and thousands of hours of flying time. \n",
      "\n",
      "The dead girl was with her parents, who were unhurt, witnesses told local media. \n",
      "\n",
      "The plane passed over the dead mans legs as he sunbathed on a towel, they said. \n",
      "\n",
      "One witness, Rita Rogado, 20, told the Pblico newspaper that the plane crashed right by the sea, dragging her along for a few metres in the sand. \n",
      "\n",
      "Some sunbathers said the plane appeared to be gliding, as they heard no engine noise. \n",
      "\n",
      "This article was amended on 3 August 2017. \n",
      "\n",
      "An earlier version said So Joo da Caparica beach was 20 miles south of Lisbon. \n",
      "\n",
      "This has been corrected to 12 miles. \n",
      "\n"
     ]
    }
   ],
   "source": [
    "content = []\n",
    "for e in entries:\n",
    "     content.extend(e.find_all(\"p\"))\n",
    "# print content\n",
    "text = \"\"\n",
    "for each in content:\n",
    "    text = text + each.get_text() +\" \"\n",
    "    \n",
    "# print '{} posts were found.'.format(len(text))\n",
    "text = text.encode('utf-8').decode(\"unicode_escape\").encode('ascii','ignore')\n",
    "text = nltk.sent_tokenize(text)\n",
    "# text = text.replace(\". \",\".\\n\")\n",
    "# text.replace(\"\\n\\n\",\"\\n\")\n",
    "# text = text.split(\"\\n\")\n",
    "# while '' in text:\n",
    "#      text.remove('')\n",
    "for each in text:\n",
    "    print each , \"\\n\"\n",
    "    \n",
    "# if baseurl == 't':\n",
    "#      i = len(text)\n",
    "#      i -= 1\n",
    "#      while text[i]!=\"Topics\":\n",
    "#          text.remove(text[i])\n",
    "#          i-=1\n",
    "#      text.remove(text[i])\n",
    "    \n",
    "    \n",
    "for each in text:\n",
    "    print each , \"\\n\""
   ]
  },
  {
   "cell_type": "code",
   "execution_count": null,
   "metadata": {
    "collapsed": true
   },
   "outputs": [],
   "source": []
  }
 ],
 "metadata": {
  "kernelspec": {
   "display_name": "Python 3",
   "language": "python",
   "name": "python3"
  },
  "language_info": {
   "codemirror_mode": {
    "name": "ipython",
    "version": 2
   },
   "file_extension": ".py",
   "mimetype": "text/x-python",
   "name": "python",
   "nbconvert_exporter": "python",
   "pygments_lexer": "ipython2",
   "version": "2.7.14"
  }
 },
 "nbformat": 4,
 "nbformat_minor": 2
}
