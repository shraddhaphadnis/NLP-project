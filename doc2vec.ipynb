{
 "cells": [
  {
   "cell_type": "code",
   "execution_count": 21,
   "metadata": {
    "collapsed": true
   },
   "outputs": [],
   "source": [
    "import urllib\n",
    "from bs4 import BeautifulSoup as bs\n",
    "import nltk\n",
    "import pandas  as pd\n",
    "import numpy as np\n",
    "from nltk.stem.snowball import SnowballStemmer\n",
    "from nltk import ngrams\n",
    "from nltk.tokenize import RegexpTokenizer\n",
    "from nltk.corpus import stopwords\n",
    "from collections import Counter\n",
    "from sklearn.feature_extraction.text import CountVectorizer, TfidfVectorizer\n",
    "import pandas as pd\n",
    "df = pd.read_csv('news_summary.csv')"
   ]
  },
  {
   "cell_type": "code",
   "execution_count": 22,
   "metadata": {
    "scrolled": true
   },
   "outputs": [
    {
     "data": {
      "text/plain": [
       "0       http://www.hindustantimes.com/india-news/raksh...\n",
       "1       http://www.hindustantimes.com/bollywood/malaik...\n",
       "2       http://www.hindustantimes.com/patna/bihar-igim...\n",
       "3       http://indiatoday.intoday.in/story/abu-dujana-...\n",
       "4       http://indiatoday.intoday.in/story/sex-traffic...\n",
       "5       http://www.hindustantimes.com/delhi-news/man-f...\n",
       "6       http://indiatoday.intoday.in/story/delhi-high-...\n",
       "7       http://www.hindustantimes.com/india-news/60-ye...\n",
       "8       http://www.hindustantimes.com/mumbai-news/2015...\n",
       "9       http://indiatoday.intoday.in/story/lucknow-sta...\n",
       "10      http://www.hindustantimes.com/india-news/india...\n",
       "11      http://www.hindustantimes.com/punjab/google-jo...\n",
       "12      http://www.hindustantimes.com/gurgaon/mcg-s-ne...\n",
       "13      https://www.theguardian.com/science/2017/aug/0...\n",
       "14      http://www.hindustantimes.com/delhi-news/nearl...\n",
       "15      http://www.hindustantimes.com/india-news/supre...\n",
       "16      http://www.hindustantimes.com/other-sports/ind...\n",
       "17      http://indiatoday.intoday.in/story/maruti-spar...\n",
       "18      http://indiatoday.intoday.in/story/virgin-igim...\n",
       "19      https://www.theguardian.com/world/2017/aug/02/...\n",
       "20      http://www.hindustantimes.com/india-news/baby-...\n",
       "21      http://indiatoday.intoday.in/story/delhi-aiims...\n",
       "22      http://www.hindustantimes.com/noida/noida-farm...\n",
       "23      https://www.theguardian.com/business/2017/aug/...\n",
       "24      https://www.theguardian.com/world/2017/aug/02/...\n",
       "25      http://www.hindustantimes.com/world-news/saudi...\n",
       "26      http://www.hindustantimes.com/world-news/us-la...\n",
       "27      http://www.hindustantimes.com/world-news/germa...\n",
       "28      http://www.hindustantimes.com/bollywood/dilip-...\n",
       "29      http://www.hindustantimes.com/mumbai-news/two-...\n",
       "                              ...                        \n",
       "4484    http://indiatoday.intoday.in/story/arvind-kejr...\n",
       "4485    http://indiatoday.intoday.in/story/kanye-west-...\n",
       "4486    http://indiatoday.intoday.in/story/not-afraid-...\n",
       "4487    http://indiatoday.intoday.in/story/max-healthc...\n",
       "4488    http://indiatoday.intoday.in/story/sasikala-pa...\n",
       "4489    http://indiatoday.intoday.in/story/gurugram-nh...\n",
       "4490    http://indiatoday.intoday.in/story/digvijay-jo...\n",
       "4491    http://indiatoday.intoday.in/story/shiv-sena-t...\n",
       "4492    http://indiatoday.intoday.in/story/man-protest...\n",
       "4493    http://indiatoday.intoday.in/story/ayesha-taki...\n",
       "4494    http://indiatoday.intoday.in/story/vijender-si...\n",
       "4495    http://indiatoday.intoday.in/story/anil-kumble...\n",
       "4496    http://indiatoday.intoday.in/story/amitabh-bac...\n",
       "4497    http://indiatoday.intoday.in/story/bmc-electio...\n",
       "4498    http://indiatoday.intoday.in/story/disha-patan...\n",
       "4499    http://indiatoday.intoday.in/story/demonetisat...\n",
       "4500    http://indiatoday.intoday.in/story/biz-models-...\n",
       "4501    http://indiatoday.intoday.in/story/jolly-llb-2...\n",
       "4502    http://indiatoday.intoday.in/story/baahubali-2...\n",
       "4503    http://indiatoday.intoday.in/story/virat-kohli...\n",
       "4504    http://indiatoday.intoday.in/story/kansas-city...\n",
       "4505    http://indiatoday.intoday.in/story/uttar-prade...\n",
       "4506    http://indiatoday.intoday.in/story/rangoon-mov...\n",
       "4507    http://indiatoday.intoday.in/story/shiv-sena-w...\n",
       "4508    http://indiatoday.intoday.in/story/tc-allegedl...\n",
       "4509    http://indiatoday.intoday.in/story/rasna-eyes-...\n",
       "4510    http://indiatoday.intoday.in/story/sachin-tend...\n",
       "4511    http://www.hindustantimes.com/bollywood/secret...\n",
       "4512    http://indiatoday.intoday.in/story/singer-asha...\n",
       "4513    http://indiatoday.intoday.in/story/indian-lang...\n",
       "Name: read_more, Length: 4514, dtype: object"
      ]
     },
     "execution_count": 22,
     "metadata": {},
     "output_type": "execute_result"
    }
   ],
   "source": [
    "df['read_more']"
   ]
  },
  {
   "cell_type": "code",
   "execution_count": 23,
   "metadata": {
    "collapsed": true
   },
   "outputs": [],
   "source": [
    "def clean_data(html,baseurl):\n",
    "    soup = bs(html, 'html.parser')\n",
    "    if baseurl == 'i':\n",
    "        entries = soup.find_all('div',{'class':'description'})\n",
    "    elif baseurl == 't':\n",
    "        entries = soup.find_all('div',{'itemprop':'articleBody'})\n",
    "    elif baseurl == 'h':\n",
    "        entries = soup.find_all('div',{'itemprop':'articlebody'})\n",
    "    for each in entries:\n",
    "            if each.figure:\n",
    "                each.figure.decompose()\n",
    "    content = []\n",
    "    for e in entries:\n",
    "         content.extend(e.find_all(\"p\"))\n",
    "    \n",
    "    text = \"\"\n",
    "    for each in content:\n",
    "        text = text + each.get_text() +\" \"\n",
    "\n",
    "    text = text.encode('utf-8').decode(\"unicode_escape\").encode('ascii','ignore')\n",
    "    text = nltk.sent_tokenize(text)    \n",
    "    return text"
   ]
  },
  {
   "cell_type": "code",
   "execution_count": 24,
   "metadata": {
    "collapsed": true
   },
   "outputs": [],
   "source": [
    "def readUrl(url):\n",
    "    if \"indiatoday\" in url or \"intoday\" in url:\n",
    "        baseurl = \"i\"\n",
    "    elif \"hindustantimes\" in url:\n",
    "        baseurl = \"h\"\n",
    "    elif \"theguardian\" in url:\n",
    "        baseurl = \"t\"\n",
    "\n",
    "    file = urllib.urlopen(url)\n",
    "    html = file.read()\n",
    "\n",
    "    text = clean_data(html,baseurl)\n",
    "    return text"
   ]
  },
  {
   "cell_type": "code",
   "execution_count": 31,
   "metadata": {},
   "outputs": [],
   "source": [
    "data = []\n",
    "df1 = list(df['read_more'])\n",
    "df1 = df1[:20]\n",
    "len (df1)\n",
    "for doc in df1:\n",
    "#      print doc\n",
    "     data.append(readUrl(doc))"
   ]
  },
  {
   "cell_type": "code",
   "execution_count": 35,
   "metadata": {},
   "outputs": [],
   "source": [
    "class LabeledLineSentence(object):\n",
    "    def __init__(self, filename):\n",
    "        self.filename = filename\n",
    "    def __iter__(self):\n",
    "        for uid, line in enumerate(open(filename)):\n",
    "            yield LabeledSentence(words=line.split(), labels=['SENT_%s' % uid])"
   ]
  },
  {
   "cell_type": "code",
   "execution_count": 37,
   "metadata": {},
   "outputs": [
    {
     "ename": "NameError",
     "evalue": "name 'DocIt' is not defined",
     "output_type": "error",
     "traceback": [
      "\u001b[0;31m---------------------------------------------------------------------------\u001b[0m",
      "\u001b[0;31mNameError\u001b[0m                                 Traceback (most recent call last)",
      "\u001b[0;32m<ipython-input-37-fd3cb942ba92>\u001b[0m in \u001b[0;36m<module>\u001b[0;34m()\u001b[0m\n\u001b[1;32m      1\u001b[0m \u001b[0;32mimport\u001b[0m \u001b[0mgensim\u001b[0m\u001b[0;34m\u001b[0m\u001b[0m\n\u001b[0;32m----> 2\u001b[0;31m \u001b[0mit\u001b[0m \u001b[0;34m=\u001b[0m \u001b[0mDocIt\u001b[0m\u001b[0;34m.\u001b[0m\u001b[0mDocIterator\u001b[0m\u001b[0;34m(\u001b[0m\u001b[0mdata\u001b[0m\u001b[0;34m,\u001b[0m \u001b[0mdocLabels\u001b[0m\u001b[0;34m)\u001b[0m\u001b[0;34m\u001b[0m\u001b[0m\n\u001b[0m",
      "\u001b[0;31mNameError\u001b[0m: name 'DocIt' is not defined"
     ]
    }
   ],
   "source": [
    "import gensim\n",
    "it = DocIt.DocIterator(data, docLabels)"
   ]
  },
  {
   "cell_type": "code",
   "execution_count": null,
   "metadata": {
    "collapsed": true
   },
   "outputs": [],
   "source": []
  }
 ],
 "metadata": {
  "kernelspec": {
   "display_name": "Python 2",
   "language": "python",
   "name": "python2"
  },
  "language_info": {
   "codemirror_mode": {
    "name": "ipython",
    "version": 2
   },
   "file_extension": ".py",
   "mimetype": "text/x-python",
   "name": "python",
   "nbconvert_exporter": "python",
   "pygments_lexer": "ipython2",
   "version": "2.7.14"
  }
 },
 "nbformat": 4,
 "nbformat_minor": 2
}
