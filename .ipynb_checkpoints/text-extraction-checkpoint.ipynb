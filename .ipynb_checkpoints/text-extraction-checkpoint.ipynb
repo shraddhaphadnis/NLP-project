{
 "cells": [
  {
   "cell_type": "markdown",
   "metadata": {},
   "source": [
    "Import Dependencies"
   ]
  },
  {
   "cell_type": "code",
   "execution_count": 1,
   "metadata": {
    "collapsed": true
   },
   "outputs": [],
   "source": [
    "import urllib\n",
    "from bs4 import BeautifulSoup as bs\n",
    "import nltk\n",
    "import pandas  as pd"
   ]
  },
  {
   "cell_type": "code",
   "execution_count": 14,
   "metadata": {},
   "outputs": [],
   "source": [
    "df = pd.read_csv('news_summary.csv')\n",
    "i = 2"
   ]
  },
  {
   "cell_type": "markdown",
   "metadata": {},
   "source": [
    "Extract data from html files"
   ]
  },
  {
   "cell_type": "code",
   "execution_count": 15,
   "metadata": {
    "collapsed": true
   },
   "outputs": [],
   "source": [
    "url = df['read_more'][i]\n",
    "gold_summary = df['text'][i]\n",
    "if \"indiatoday\" in url or \"intoday\" in url:\n",
    "    baseurl = \"i\"\n",
    "elif \"hindustantimes\" in url:\n",
    "    baseurl = \"h\"\n",
    "elif \"theguardian\" in url:\n",
    "    baseurl = \"t\"\n",
    "file = urllib.urlopen(url)\n",
    "html = file.read()"
   ]
  },
  {
   "cell_type": "markdown",
   "metadata": {},
   "source": [
    "<h2>Parse the data to extract article text</h2>"
   ]
  },
  {
   "cell_type": "code",
   "execution_count": 16,
   "metadata": {},
   "outputs": [
    {
     "name": "stdout",
     "output_type": "stream",
     "text": [
      "The Indira Gandhi Institute of Medical Sciences (IGIMS) in Patna amended its marital declaration form on Thursday, replacing the word virgin with unmarried after controversy. \n",
      "\n",
      "Until now, new recruits to the super-specialty medical institute in the state capital were required to declare if they were bachelors, widowers or virgins. \n",
      "\n",
      "IGIMS medical superintendent Dr Manish Mandal said institute director Dr NR Biswas held a meeting on Thursday morning before directing that the word virgin on the marital declaration form be immediately replaced with unmarried. \n",
      "\n",
      "Dr Biswas had just returned after a four-day leave of absence. \n",
      "\n",
      "Earlier, Bihar health minister Mangal Pandey had ended up redefining the very meaning of virginity in his attempts to justify the awkward phrasing of the question in the form. \n",
      "\n",
      "Following a public furore over the document on Wednesday, the minister told news channels that there was nothing wrong with using the word virgin because it simply meant kanya or kunwari  which means an unmarried girl. \n",
      "\n",
      "Pandey had joined the cabinet just three days ago. \n",
      "\n",
      "Sources said the chief ministers office had also taken cognizance of the issue, and asked for a copy of the form. \n",
      "\n",
      "It had even asked why the question was introduced in the first place. \n",
      "\n",
      "In its response, the management of the autonomous super-specialty health facility had clarified on Wednesday that it was in adherence to the central civil services rules followed by the All India Institute of Medical Sciences in New Delhi. \n",
      "\n",
      "The marital declaration form had been in existence since the inception of the institute in 1983. \n",
      "\n",
      "Some officials blamed the faux pas on poor translation on the part of individuals who drafted the document. \n",
      "\n",
      "The word virgin mentioned on the form had nothing to do with the virginity of any employee. \n",
      "\n",
      "It only sought to know the employees marital status, so their dues could be settled on the basis of their declaration in the event of death while in service, said Dr Mandal. \n",
      "\n"
     ]
    }
   ],
   "source": [
    "soup = bs(html, 'html.parser')\n",
    "\n",
    "if baseurl == \"i\":\n",
    "    entries = soup.find_all('div',{'class':'description'})\n",
    "elif baseurl == \"t\":\n",
    "    entries = soup.find_all('div',{'itemprop':'articleBody'})\n",
    "elif baseurl == \"h\":\n",
    "    entries = soup.find_all('div',{'itemprop':'articlebody'})\n",
    "\n",
    "for each in entries:\n",
    "        if each.figure:\n",
    "            each.figure.decompose()\n",
    "content = []\n",
    "for e in entries:\n",
    "     content.extend(e.find_all(\"p\"))\n",
    "\n",
    "text = \"\"\n",
    "for each in content:\n",
    "    text = text + each.get_text() +\" \"\n",
    "    \n",
    "text = text.encode('utf-8').decode(\"unicode_escape\").encode('ascii','ignore')\n",
    "text = nltk.sent_tokenize(text)    \n",
    "    \n",
    "for each in text:\n",
    "    print each , \"\\n\""
   ]
  },
  {
   "cell_type": "markdown",
   "metadata": {},
   "source": [
    "Start extraction"
   ]
  },
  {
   "cell_type": "code",
   "execution_count": 17,
   "metadata": {
    "collapsed": true
   },
   "outputs": [],
   "source": [
    "from nltk.tokenize import RegexpTokenizer\n",
    "from nltk.corpus import stopwords\n",
    "from collections import Counter"
   ]
  },
  {
   "cell_type": "code",
   "execution_count": 18,
   "metadata": {},
   "outputs": [
    {
     "name": "stdout",
     "output_type": "stream",
     "text": [
      "14\n",
      "23.0\n",
      "IGIMS medical superintendent Dr Manish Mandal said institute director Dr NR Biswas held a meeting on Thursday morning before directing that the word virgin on the marital declaration form be immediately replaced with unmarried.\n",
      "\n",
      "IGIMS medical superintendent Dr Manish Mandal said institute director Dr NR Biswas held a meeting on Thursday morning before directing that the word virgin on the marital declaration form be immediately replaced with unmarried. \n"
     ]
    }
   ],
   "source": [
    "# tokenize the article\n",
    "tokenizer = RegexpTokenizer(r'\\w+')\n",
    "word_list=[]\n",
    "for t in text:\n",
    "    word_list.extend(tokenizer.tokenize(t))\n",
    "\n",
    "\n",
    "# remove stop words from the article\n",
    "filtered_words = [word for word in word_list if word.lower() not in stopwords.words('english')]\n",
    "total_words = len(filtered_words)\n",
    "words = filtered_words\n",
    "\n",
    "# find n-gram probability for filtered words\n",
    "filtered_words  = []\n",
    "for each in Counter(words).items():\n",
    "    filtered_words.append([each[0] , float(each[1])/float(total_words)])\n",
    "\n",
    "# identify important words\n",
    "important_words = []\n",
    "for item in filtered_words:\n",
    "    if item[1]>0.003:\n",
    "        important_words.append(item[0])\n",
    "\n",
    "while '. ' in text:\n",
    "    text = text.replace('. ','\\n') \n",
    "# calculate sentence score\n",
    "while \"\\n\" in text:\n",
    "    text = text.split(\"\\n\")\n",
    "\n",
    "sentenceScore  = []\n",
    "for sentence in text:\n",
    "    score = 0\n",
    "    count = 0\n",
    "    for word in important_words:\n",
    "        if word not in stopwords.words('english'):\n",
    "            count = count +1\n",
    "        if word in sentence and word not in stopwords.words('english'):\n",
    "            score = score + 1\n",
    "            count = count + 1\n",
    "    sentenceScore.append([sentence,float(score)/float(len(sentence))**(1/2)])\n",
    "\n",
    "# extract top n/5 sentences (n is total number of sentences in the text)\n",
    "sen = sentenceScore\n",
    "sentenceScore.sort(key=lambda x: x[1], reverse=True)\n",
    "print len(sentenceScore)\n",
    "cutScore = sentenceScore[len(sentenceScore)/5][1]\n",
    "print cutScore\n",
    "count = 0\n",
    "machine_summary = \"\"\n",
    "\n",
    "for sentence in sen:\n",
    "    if sentence[1]>cutScore:\n",
    "        print sentence[0] + \"\\n\"\n",
    "        machine_summary = machine_summary + sentence[0] + \" \"\n",
    "\n",
    "\n",
    "print machine_summary"
   ]
  },
  {
   "cell_type": "code",
   "execution_count": 19,
   "metadata": {},
   "outputs": [
    {
     "name": "stdout",
     "output_type": "stream",
     "text": [
      "The Indira Gandhi Institute of Medical Sciences (IGIMS) in Patna on Thursday made corrections in its Marital Declaration Form by changing 'Virgin' option to 'Unmarried'. Earlier, Bihar Health Minister defined virgin as being an unmarried woman and did not consider the term objectionable. The institute, however, faced strong backlash for asking new recruits to declare their virginity in the form.\n"
     ]
    }
   ],
   "source": [
    "print gold_summary"
   ]
  },
  {
   "cell_type": "code",
   "execution_count": 20,
   "metadata": {},
   "outputs": [
    {
     "name": "stdout",
     "output_type": "stream",
     "text": [
      "0.211538461538\n"
     ]
    }
   ],
   "source": [
    "from nltk.stem.snowball import SnowballStemmer\n",
    "from nltk import ngrams\n",
    "\n",
    "n = 1\n",
    "\n",
    "stemmer = SnowballStemmer(\"english\")\n",
    "\n",
    "gold_summary_slammed = \"\"\n",
    "for word in gold_summary.split():\n",
    "\tgold_summary_slammed = gold_summary_slammed+stemmer.stem(word)+\" \"\n",
    "\n",
    "\n",
    "machine_summary_slammed = \"\"\n",
    "for word in machine_summary.split():\n",
    "\tmachine_summary_slammed = machine_summary_slammed+stemmer.stem(word)+\" \"\n",
    "\n",
    "n_gold = ngrams(gold_summary_slammed.split(\" \"),n)\n",
    "n_machine = ngrams(machine_summary_slammed.split(\" \"),n)\n",
    "\n",
    "gold_list = []\n",
    "\n",
    "for gram in n_gold:\n",
    "\tgold_list.append(gram)\n",
    "\n",
    "machine_list = []\n",
    "for gram in n_machine:\n",
    "\tmachine_list.append(gram)\n",
    "\n",
    "print float(len(list(set(gold_list).intersection(machine_list))))/float(len(list(set(gold_list))))"
   ]
  },
  {
   "cell_type": "code",
   "execution_count": null,
   "metadata": {
    "collapsed": true
   },
   "outputs": [],
   "source": []
  }
 ],
 "metadata": {
  "kernelspec": {
   "display_name": "Python 3",
   "language": "python",
   "name": "python3"
  },
  "language_info": {
   "codemirror_mode": {
    "name": "ipython",
    "version": 2
   },
   "file_extension": ".py",
   "mimetype": "text/x-python",
   "name": "python",
   "nbconvert_exporter": "python",
   "pygments_lexer": "ipython2",
   "version": "2.7.14"
  }
 },
 "nbformat": 4,
 "nbformat_minor": 2
}
