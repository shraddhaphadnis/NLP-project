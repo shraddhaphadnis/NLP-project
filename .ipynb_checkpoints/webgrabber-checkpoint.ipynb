{
 "cells": [
  {
   "cell_type": "code",
   "execution_count": 1,
   "metadata": {
    "collapsed": true
   },
   "outputs": [],
   "source": [
    "import urllib\n",
    "from bs4 import BeautifulSoup as bs\n",
    "import nltk"
   ]
  },
  {
   "cell_type": "code",
   "execution_count": 3,
   "metadata": {},
   "outputs": [
    {
     "name": "stdout",
     "output_type": "stream",
     "text": [
      "i\n"
     ]
    }
   ],
   "source": [
    "url = \"https://www.indiatoday.in/india/story/congress-mlas-bengaluru-resort-gujarat-mlas-bengaluru-resort-1027478-2017-08-01\"\n",
    "if \"indiatoday\" in url or \"intoday\" in url:\n",
    "    baseurl = \"i\"\n",
    "elif \"hindustantimes\" in url:\n",
    "    baseurl = \"h\"\n",
    "elif \"theguardian\" in url:\n",
    "    baseurl = \"t\"\n",
    "print baseurl\n",
    "file = urllib.urlopen(url)\n",
    "\n",
    "html = file.read()"
   ]
  },
  {
   "cell_type": "code",
   "execution_count": 4,
   "metadata": {
    "collapsed": true
   },
   "outputs": [],
   "source": [
    "soup = bs(html, 'html.parser')"
   ]
  },
  {
   "cell_type": "code",
   "execution_count": 5,
   "metadata": {
    "collapsed": true
   },
   "outputs": [],
   "source": [
    "if baseurl == \"i\":\n",
    "    entries = soup.find_all('div',{'class':'description'})\n",
    "elif baseurl == \"t\":\n",
    "    entries = soup.find_all('div',{'itemprop':'articleBody'})\n",
    "elif baseurl == \"h\":\n",
    "    entries = soup.find_all('div',{'itemprop':'articlebody'})\n",
    "\n",
    "for each in entries:\n",
    "        if each.figure:\n",
    "            each.figure.decompose()"
   ]
  },
  {
   "cell_type": "code",
   "execution_count": 56,
   "metadata": {},
   "outputs": [
    {
     "name": "stdout",
     "output_type": "stream",
     "text": [
      "1 posts were found.\n",
      "['Bored in confines of a sprawling resort in Bengaluru, the Congress flock of 44 MLAs is a frustrated lot now.Following strict orders of the Karnataka Power Minister DK Shivakumar, the MLAs are not allowed to venture out in the city.', 'While the minister is presently in New Delhi to seek further course of action, 30 MLAs have been put in-charge of the discipline.But few defiant MLAs did head out in the city for sightseeing, shopping, to visit temples, much to the dismay of those still under curbs.The MLAs who were allowed to go out are supposedly those, the Congress is confident of not ditching the party.To prevent the leaders from going out of the resort, an itinerary full of seminars and programmes has been planned.', 'Today, Dr Suresh Sharma and Naushad Paramar of Jawaharalal Nehru leadership institute, conducted classes on various issues for the Congress legislators from Gujarat.Bengaluru rural MP DK Suresh today spoke to India Today and said, \"This morning an orientation programme was held by JNLI Professor Suresh Sharma.', 'He delivered a lecture on the truth behind corruption charges against UPA.', 'The evening session will be about Gujarat.\"Among other subjects that the seminars are lined up for include, Congress\\' achievements in the past 60 years, transparency and accountability, team work and media truth.']\n"
     ]
    }
   ],
   "source": [
    "for e in entries:\n",
    "    print e\n",
    "# print '{} posts were found.'.format(len(text))\n",
    "# text = text[0].encode('utf-8').decode(\"unicode_escape\").encode('ascii','ignore')\n",
    "# text = text.replace(\". \",\".\\n\")\n",
    "# text.replace(\"\\n\\n\",\"\\n\")\n",
    "# text = text.split(\"\\n\")\n",
    "# while '' in text:\n",
    "#      text.remove('')\n",
    "\n",
    "# if baseurl == 't':\n",
    "#     i = len(text)\n",
    "#     i -= 1\n",
    "#     while text[i]!=\"Topics\":\n",
    "#         text.remove(text[i])\n",
    "#         i-=1\n",
    "#     text.remove(text[i])\n",
    "    \n",
    "    \n",
    "# print (text)"
   ]
  },
  {
   "cell_type": "code",
   "execution_count": 57,
   "metadata": {},
   "outputs": [
    {
     "name": "stdout",
     "output_type": "stream",
     "text": [
      "Bored in confines of a sprawling resort in Bengaluru, the Congress flock of 44 MLAs is a frustrated lot now.Following strict orders of the Karnataka Power Minister DK Shivakumar, the MLAs are not allowed to venture out in the city. \n",
      "\n",
      "While the minister is presently in New Delhi to seek further course of action, 30 MLAs have been put in-charge of the discipline.But few defiant MLAs did head out in the city for sightseeing, shopping, to visit temples, much to the dismay of those still under curbs.The MLAs who were allowed to go out are supposedly those, the Congress is confident of not ditching the party.To prevent the leaders from going out of the resort, an itinerary full of seminars and programmes has been planned. \n",
      "\n",
      "Today, Dr Suresh Sharma and Naushad Paramar of Jawaharalal Nehru leadership institute, conducted classes on various issues for the Congress legislators from Gujarat.Bengaluru rural MP DK Suresh today spoke to India Today and said, \"This morning an orientation programme was held by JNLI Professor Suresh Sharma. \n",
      "\n",
      "He delivered a lecture on the truth behind corruption charges against UPA. \n",
      "\n",
      "The evening session will be about Gujarat.\"Among other subjects that the seminars are lined up for include, Congress' achievements in the past 60 years, transparency and accountability, team work and media truth. \n",
      "\n"
     ]
    }
   ],
   "source": [
    "for each in text:\n",
    "    print (each),\"\\n\""
   ]
  },
  {
   "cell_type": "code",
   "execution_count": 58,
   "metadata": {},
   "outputs": [
    {
     "name": "stdout",
     "output_type": "stream",
     "text": [
      "Bored in confines of a sprawling resort in Bengaluru, the Congress flock of 44 MLAs is a frustrated lot now.Following strict orders of the Karnataka Power Minister DK Shivakumar, the MLAs are not allowed to venture out in the city.\n"
     ]
    }
   ],
   "source": [
    "sen = text[0]\n",
    "print sen"
   ]
  },
  {
   "cell_type": "code",
   "execution_count": 59,
   "metadata": {},
   "outputs": [
    {
     "name": "stdout",
     "output_type": "stream",
     "text": [
      "['CorpusView', '__class__', '__delattr__', '__dict__', '__doc__', '__format__', '__getattribute__', '__hash__', '__init__', '__module__', '__new__', '__reduce__', '__reduce_ex__', '__repr__', '__setattr__', '__sizeof__', '__str__', '__subclasshook__', '__unicode__', '__weakref__', '_encoding', '_fileids', '_get_root', '_para_block_reader', '_read_para_block', '_read_sent_block', '_read_word_block', '_root', '_sent_tokenizer', '_tagset', '_unload', '_word_tokenizer', 'abspath', 'abspaths', 'citation', 'encoding', 'ensure_loaded', 'fileids', 'license', 'open', 'paras', 'raw', 'readme', 'root', 'sents', 'unicode_repr', 'words']\n",
      "[u'austen-emma.txt', u'austen-persuasion.txt', u'austen-sense.txt', u'bible-kjv.txt', u'blake-poems.txt', u'bryant-stories.txt', u'burgess-busterbrown.txt', u'carroll-alice.txt', u'chesterton-ball.txt', u'chesterton-brown.txt', u'chesterton-thursday.txt', u'edgeworth-parents.txt', u'melville-moby_dick.txt', u'milton-paradise.txt', u'shakespeare-caesar.txt', u'shakespeare-hamlet.txt', u'shakespeare-macbeth.txt', u'whitman-leaves.txt']\n",
      "5\n",
      "['Bored in confines of a sprawling resort in Bengaluru, the Congress flock of 44 MLAs is a frustrated lot now.Following strict orders of the Karnataka Power Minister DK Shivakumar, the MLAs are not allowed to venture out in the city.']\n",
      "set([u'messa', u'v.e', u'deci', u'rev', u'osr', u'ros', u'clo', u'ment', u's.w.f', u'hag', u'ely', u'cly', u'dard', u'oct', u'polon', u'ami', u'ger', u'dag', u'banq', u'amb', u'doct', u'moo', u'qu', u'gen', u'octa', u'prima', u'bap', u'foh', u'pol', u'p', u'hora', u'treb', u'ser', u'ed', u'sey', u'ara', u'esq', u'mur', u'l10', u'k.c', u'luc', u'cassi', u'ro', u'ophe', u'n.e', u'a.d', u'ibid', u'rosin', u'wm', u'1.ple', u'len', u'y.sey', u'lep', u'ple', u'br', u'a.s', u'o.r', u'i.e', u'fred', u'cop', u'c', u'trans', u'g', u'gent', u'malc', u'etc', u'tit', u'w', u'boa', u'mes', u'bru', u'por', u'lbs', u'xx', u'guil', u'poe', u'feb', u'calp', u'brut', u'mss', u'hec', u'var', u'dut', u'vat', u'xxx', u'jun', u'burs', u'cyn', u'cic', u'b', u'f', u'cas', u'j', u'cin', u'ult', u'n', u'mt', u'cai', u'cass', u'fla', u'dec', u'k', u'clit', u'ang', u'vol', u'm', u'p.s', u'ant', u'p.h', u'p.m', u'ave', u'u.s', u'laer', u'pind', u'cob', u'g.k', u\"'w\", u\"'dr\", u'm.p', u'fran', u'finsb', u'mac', u'macd', u'syw', u'macb', u'm.d', u'mal', u'phil', u'sw', u'hon', u'cath', u'u', u'talb', u\"'mr\", u'stra', u'gho'])\n"
     ]
    }
   ],
   "source": [
    "from nltk.corpus import gutenberg\n",
    " \n",
    "print dir(gutenberg)\n",
    "print gutenberg.fileids()\n",
    " \n",
    "text1 = \"\"\n",
    "for file_id in gutenberg.fileids():\n",
    "    text1 += gutenberg.raw(file_id)\n",
    " \n",
    "print len(text) \n",
    "\n",
    "from pprint import pprint\n",
    "from nltk.tokenize.punkt import PunktSentenceTokenizer, PunktTrainer\n",
    " \n",
    "\n",
    "trainer = PunktTrainer()\n",
    "trainer.INCLUDE_ALL_COLLOCS = True\n",
    "trainer.train(text1)\n",
    " \n",
    "tokenizer = PunktSentenceTokenizer(trainer.get_params())\n",
    " \n",
    "# Test the tokenizer on a piece of text\n",
    "sentences = sen\n",
    "print tokenizer.tokenize(sentences)\n",
    "# ['Mr. James told me Dr.', 'Brown is not available today.', 'I will try tomorrow.']\n",
    " \n",
    "# View the learned abbreviations\n",
    "print tokenizer._params.abbrev_types\n",
    "# set([...])\n",
    " \n",
    "# Here's how to debug every split decision\n",
    "for decision in tokenizer.debug_decisions(sentences):\n",
    "    pprint(decision)\n",
    "    print '=' * 30\n",
    " "
   ]
  },
  {
   "cell_type": "code",
   "execution_count": null,
   "metadata": {
    "collapsed": true
   },
   "outputs": [],
   "source": []
  }
 ],
 "metadata": {
  "kernelspec": {
   "display_name": "Python 3",
   "language": "python",
   "name": "python3"
  },
  "language_info": {
   "codemirror_mode": {
    "name": "ipython",
    "version": 2
   },
   "file_extension": ".py",
   "mimetype": "text/x-python",
   "name": "python",
   "nbconvert_exporter": "python",
   "pygments_lexer": "ipython2",
   "version": "2.7.14"
  }
 },
 "nbformat": 4,
 "nbformat_minor": 2
}
