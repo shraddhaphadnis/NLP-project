{
 "cells": [
  {
   "cell_type": "markdown",
   "metadata": {},
   "source": [
    "<h2>Import Dependencies</h2>"
   ]
  },
  {
   "cell_type": "code",
   "execution_count": 9,
   "metadata": {
    "collapsed": true
   },
   "outputs": [],
   "source": [
    "import urllib\n",
    "from bs4 import BeautifulSoup as bs\n",
    "import nltk\n",
    "import pandas  as pd\n",
    "import numpy as np\n",
    "from nltk.stem.snowball import SnowballStemmer\n",
    "from nltk import ngrams\n",
    "from nltk.tokenize import RegexpTokenizer\n",
    "from nltk.corpus import stopwords\n",
    "from collections import Counter\n",
    "from sklearn.feature_extraction.text import CountVectorizer, TfidfVectorizer\n",
    "import pandas as pd\n"
   ]
  },
  {
   "cell_type": "markdown",
   "metadata": {},
   "source": [
    "<h2> Parse and clean data </h2>"
   ]
  },
  {
   "cell_type": "code",
   "execution_count": 10,
   "metadata": {
    "collapsed": true
   },
   "outputs": [],
   "source": [
    "def clean_data(html,baseurl):\n",
    "    soup = bs(html, 'html.parser')\n",
    "    if baseurl == 'i':\n",
    "        entries = soup.find_all('div',{'class':'description'})\n",
    "    elif baseurl == 't':\n",
    "        entries = soup.find_all('div',{'itemprop':'articleBody'})\n",
    "    elif baseurl == 'h':\n",
    "        entries = soup.find_all('div',{'itemprop':'articlebody'})\n",
    "    for each in entries:\n",
    "            if each.figure:\n",
    "                each.figure.decompose()\n",
    "    content = []\n",
    "    for e in entries:\n",
    "         content.extend(e.find_all(\"p\"))\n",
    "    \n",
    "    text = \"\"\n",
    "    for each in content:\n",
    "        text = text + each.get_text() +\" \"\n",
    "\n",
    "    text = text.encode('utf-8').decode(\"unicode_escape\").encode('ascii','ignore')\n",
    "    text = nltk.sent_tokenize(text)    \n",
    "    return text"
   ]
  },
  {
   "cell_type": "markdown",
   "metadata": {},
   "source": [
    "<h2> Extraction </h2>"
   ]
  },
  {
   "cell_type": "code",
   "execution_count": 11,
   "metadata": {
    "collapsed": true
   },
   "outputs": [],
   "source": [
    "def word_scores(text):\n",
    "    # tokenize the article\n",
    "    tokenizer = RegexpTokenizer(r'\\w+')\n",
    "    word_list=[]\n",
    "    for t in text:\n",
    "        word_list.extend(tokenizer.tokenize(t))\n",
    "\n",
    "\n",
    "    # remove stop words from the article\n",
    "    filtered_words = [word for word in word_list if word.lower() not in stopwords.words('english')]\n",
    "    total_words = len(filtered_words)\n",
    "    words = filtered_words\n",
    "\n",
    "    # find n-gram probability for filtered words\n",
    "    filtered_words  = []\n",
    "    for each in Counter(words).items():\n",
    "        filtered_words.append([each[0] , float(each[1])/float(total_words)])\n",
    "\n",
    "    # identify important words\n",
    "    important_words = []\n",
    "    for item in filtered_words:\n",
    "        if item[1]>0.003:\n",
    "            important_words.append(item[0])\n",
    "\n",
    "    while '. ' in text:\n",
    "        text = text.replace('. ','\\n') \n",
    "\n",
    "    while \"\\n\" in text:\n",
    "        text = text.split(\"\\n\")\n",
    "        \n",
    "    vect = TfidfVectorizer(stop_words='english')\n",
    "    dtm = vect.fit_transform(text)\n",
    "    features = vect.get_feature_names()\n",
    "    \n",
    "    scores = zip(vect.get_feature_names(),\n",
    "                 np.asarray(dtm.sum(axis=0)).ravel())\n",
    "    sorted_scores = sorted(scores, key=lambda x: x[1], reverse=True)\n",
    "    sorted_scores = dict(sorted_scores)\n",
    "    return sorted_scores"
   ]
  },
  {
   "cell_type": "markdown",
   "metadata": {},
   "source": [
    "<h2> Sentence Score </h2>"
   ]
  },
  {
   "cell_type": "code",
   "execution_count": 12,
   "metadata": {
    "collapsed": true
   },
   "outputs": [],
   "source": [
    "def sentence_score(text,sorted_scores):\n",
    "    sentence_score = []\n",
    "    for each in text:\n",
    "        score = 0.0\n",
    "    #     each = each.\n",
    "        for word in each.split(\" \"):\n",
    "            #print word\n",
    "            word = word.lower()\n",
    "            if word in sorted_scores:\n",
    "    #             print \"Hello\"\n",
    "                score += sorted_scores[word]\n",
    "    #             print word_scores[word]\n",
    "        sentence_score.append([each,score])    \n",
    "    return sentence_score"
   ]
  },
  {
   "cell_type": "markdown",
   "metadata": {},
   "source": [
    "<h2> Calculate Rouge </h2>"
   ]
  },
  {
   "cell_type": "code",
   "execution_count": 13,
   "metadata": {
    "collapsed": true
   },
   "outputs": [],
   "source": [
    "def rougeN(gold_summary,machine_summary,n):\n",
    "    stemmer = SnowballStemmer(\"english\")\n",
    "\n",
    "    gold_summary_slammed = \"\"\n",
    "    for word in gold_summary.split():\n",
    "        gold_summary_slammed = gold_summary_slammed+stemmer.stem(word)+\" \"\n",
    "\n",
    "\n",
    "    machine_summary_slammed = \"\"\n",
    "    for word in machine_summary.split():\n",
    "        machine_summary_slammed = machine_summary_slammed+stemmer.stem(word)+\" \"\n",
    "\n",
    "    n_gold = ngrams(gold_summary_slammed.split(\" \"),n)\n",
    "    n_machine = ngrams(machine_summary_slammed.split(\" \"),n)\n",
    "\n",
    "    gold_list = []\n",
    "\n",
    "    for gram in n_gold:\n",
    "        gold_list.append(gram)\n",
    "\n",
    "    machine_list = []\n",
    "    for gram in n_machine:\n",
    "        machine_list.append(gram)\n",
    "\n",
    "    return float(len(list(set(gold_list).intersection(machine_list))))/float(len(list(set(gold_list))))"
   ]
  },
  {
   "cell_type": "markdown",
   "metadata": {},
   "source": [
    "<h2> Find Summary </h2>"
   ]
  },
  {
   "cell_type": "code",
   "execution_count": 14,
   "metadata": {
    "collapsed": true
   },
   "outputs": [],
   "source": [
    "# def summary(SUMMARY_COMP_FACT,sentences):\n",
    "#     scores = []\n",
    "#     top_sentences = sorted(dict(sentences).items(), key=lambda x: x[1], reverse=True)[:(len(sentences)/SUMMARY_COMP_FACT)]\n",
    "#     machine_summary = \"\"\n",
    "#     for each in top_sentences:\n",
    "#         machine_summary = machine_summary + each[0]\n",
    "#     scores.append([SUMMARY_COMP_FACT, len(top_sentences), rougeN(gold_summary,machine_summary,2), rougeN(gold_summary,machine_summary,1)])"
   ]
  },
  {
   "cell_type": "code",
   "execution_count": 15,
   "metadata": {
    "collapsed": true
   },
   "outputs": [],
   "source": [
    "def summarize(sentences):\n",
    "    paired_sens = {}\n",
    "    num_sen = len(sentences)/6\n",
    "\n",
    "    for pair in enumerate(sentences):\n",
    "         paired_sens[pair[0]]=pair[1][1]\n",
    "\n",
    "    temp = sorted((paired_sens).items(), key=lambda x: x[1], reverse=True)[:int(num_sen)]\n",
    "    temp = sorted(dict(temp).items(), key=lambda x: x[0], reverse=False)[:int(num_sen)]\n",
    "    machine_summary = \"\"\n",
    "    for i in temp:\n",
    "#         print sentences[i[0]][0],\"\\n\"\n",
    "        machine_summary = machine_summary +  sentences[i[0]][0] + \"\\n\"\n",
    "    return machine_summary"
   ]
  },
  {
   "cell_type": "markdown",
   "metadata": {},
   "source": [
    "<h2> Main </h2>"
   ]
  },
  {
   "cell_type": "code",
   "execution_count": 38,
   "metadata": {},
   "outputs": [
    {
     "name": "stdout",
     "output_type": "stream",
     "text": [
      "0\n",
      "['The Daman and Diu administration on Wednesday withdrew a circular that asked women staff to tie rakhis on male colleagues after the order triggered a backlash from employees and was ripped apart on social media.', 'The union territorys administration was forced to retreat within 24 hours of issuing the circular that made it compulsory for its staff to celebrate Rakshabandhan at workplace.', 'It has been decided to celebrate the festival of Rakshabandhan on August 7.', 'In this connection, all offices/ departments shall remain open and celebrate the festival collectively at a suitable time wherein all the lady staff shall tie rakhis to their colleagues, the order, issued on August 1 by Gurpreet Singh, deputy secretary (personnel), had said.', 'To ensure that no one skipped office, an attendance report was to be sent to the government the next evening.', 'The circular was withdrawn through a one-line order issued late in the evening by the UTs department of personnel and administrative reforms.', 'The circular is ridiculous.', 'There are sensitivities involved.', 'How can the government dictate who I should tie rakhi to?', 'We should maintain the professionalism of a workplace an official told Hindustan Times earlier in the day.', 'She refused to be identified.', 'The notice was issued on Daman and Diu administrator and former Gujarat home minister Praful Kodabhai Patels direction, sources said.', 'Rakshabandhan, a celebration of the bond between brothers and sisters, is one of several Hindu festivities and rituals that are no longer confined of private, family affairs but have become tools to push politic al ideologies.', 'In 2014, the year BJP stormed to power at the Centre, Rashtriya Swayamsevak Sangh (RSS) chief Mohan Bhagwat said the festival had national significance and should be celebrated widely to protect Hindu culture and live by the values enshrined in it.', 'The RSS is the ideological parent of the ruling BJP.', 'Last year, women ministers in the Modi government went to the border areas to celebrate the festival with soldiers.', 'A year before, all cabinet ministers were asked to go to their constituencies for the festival.']\n",
      "The Daman and Diu administration on Wednesday withdrew a circular that asked women staff to tie rakhis on male colleagues after the order triggered a backlash from employees and was ripped apart on social media.\n",
      "In this connection, all offices/ departments shall remain open and celebrate the festival collectively at a suitable time wherein all the lady staff shall tie rakhis to their colleagues, the order, issued on August 1 by Gurpreet Singh, deputy secretary (personnel), had said.\n",
      "\n"
     ]
    }
   ],
   "source": [
    "df = pd.read_csv('news_summary.csv')\n",
    "result = []\n",
    "for i in range(0,1):\n",
    "    print i\n",
    "    try:\n",
    "        url = df['read_more'][i]\n",
    "        gold_summary = df['text'][i]\n",
    "        if \"indiatoday\" in url or \"intoday\" in url:\n",
    "            baseurl = \"i\"\n",
    "        elif \"hindustantimes\" in url:\n",
    "            baseurl = \"h\"\n",
    "        elif \"theguardian\" in url:\n",
    "            baseurl = \"t\"\n",
    "\n",
    "        file = urllib.urlopen(url)\n",
    "        html = file.read()\n",
    "\n",
    "        text = clean_data(html,baseurl)\n",
    "        print text\n",
    "        ws = word_scores(text)\n",
    "\n",
    "        ss = sentence_score(text,ws)\n",
    "\n",
    "        machine_summary = summarize(ss)\n",
    "        print machine_summary\n",
    "        result.append([i, rougeN(gold_summary,machine_summary,2),rougeN(gold_summary,machine_summary,1)])\n",
    "    except UnicodeDecodeError:\n",
    "        print \"UnicodeDecodeError\"\n",
    "        "
   ]
  },
  {
   "cell_type": "code",
   "execution_count": 36,
   "metadata": {},
   "outputs": [
    {
     "data": {
      "text/plain": [
       "0.22033898305084745"
      ]
     },
     "execution_count": 36,
     "metadata": {},
     "output_type": "execute_result"
    }
   ],
   "source": [
    "r = result\n",
    "np.mean(np.array(r), axis=0)[1]"
   ]
  },
  {
   "cell_type": "code",
   "execution_count": 51,
   "metadata": {},
   "outputs": [
    {
     "name": "stdout",
     "output_type": "stream",
     "text": [
      "The Administration of Union Territory Daman and Diu has revoked its order that made it compulsory for women to tie rakhis to their male colleagues on the occasion of Rakshabandhan on August 7. The administration was forced to withdraw the decision within 24 hours of issuing the circular after it received flak from employees and was slammed on social media.\n"
     ]
    },
    {
     "data": {
      "text/plain": [
       "0.4745762711864407"
      ]
     },
     "execution_count": 51,
     "metadata": {},
     "output_type": "execute_result"
    }
   ],
   "source": [
    "print gold_summary\n",
    "machine_summary = 'The Daman and Diu administration on Wednesday withdrew a circular that asked women staff to tie rakhis on male colleagues after the order triggered a backlash from employees and was ripped apart on social media. The union territorys administration was forced to retreat within 24 hours of issuing the circular that made it compulsory for its staff to celebrate Rakshabandhan at workplace. It has been decided to celebrate the festival of Rakshabandhan on August 7. '\n",
    "machine_summary1='The Daman and Diu administration on Wednesday withdrew a circular that asked women staff to tie rakhis on male colleagues after the order triggered a backlash from employees and was ripped apart on social media. Rakshabandhan, a celebration of the bond between brothers and sisters, is one of several Hindu festivities and rituals that are no longer confined of private, family affairs but have become tools to push politic al ideologies. In 2014, the year BJP stormed to power at the Centre, Rashtriya Swayamsevak Sangh (RSS) chief Mohan Bhagwat said the festival had national significance and should be celebrated widely to protect Hindu culture and live by the values enshrined in it. '\n",
    "rougeN(gold_summary,machine_summary,2)"
   ]
  },
  {
   "cell_type": "code",
   "execution_count": null,
   "metadata": {
    "collapsed": true
   },
   "outputs": [],
   "source": []
  },
  {
   "cell_type": "code",
   "execution_count": null,
   "metadata": {
    "collapsed": true
   },
   "outputs": [],
   "source": []
  }
 ],
 "metadata": {
  "kernelspec": {
   "display_name": "Python 3",
   "language": "python",
   "name": "python3"
  },
  "language_info": {
   "codemirror_mode": {
    "name": "ipython",
    "version": 2
   },
   "file_extension": ".py",
   "mimetype": "text/x-python",
   "name": "python",
   "nbconvert_exporter": "python",
   "pygments_lexer": "ipython2",
   "version": "2.7.14"
  }
 },
 "nbformat": 4,
 "nbformat_minor": 2
}
