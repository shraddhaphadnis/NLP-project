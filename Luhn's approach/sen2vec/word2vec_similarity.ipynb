{
 "cells": [
  {
   "cell_type": "code",
   "execution_count": 10,
   "metadata": {},
   "outputs": [
    {
     "name": "stdout",
     "output_type": "stream",
     "text": [
      "Word2Vec(vocab=201, size=150, alpha=0.025)\n"
     ]
    }
   ],
   "source": [
    "from gensim.models import Word2Vec\n",
    "import numpy as np\n",
    "from nltk.tokenize import RegexpTokenizer\n",
    "\n",
    "# find cosine similarity\n",
    "def cosine_sim(a,b):\n",
    "\treturn np.dot(a,b)/np.linalg.norm(a)/np.linalg.norm(b)\n",
    "\n",
    "# define training data\n",
    "#f = open(\"sample\",\"r\")\n",
    "#text = f.read()\n",
    "#text = text.split(\"\\n\")\n",
    "text = ['The Daman and Diu administration on Wednesday withdrew a circular that asked women staff to tie rakhis on male colleagues after the order triggered a backlash from employees and was ripped apart on social media.', 'The union territorys administration was forced to retreat within 24 hours of issuing the circular that made it compulsory for its staff to celebrate Rakshabandhan at workplace.', 'It has been decided to celebrate the festival of Rakshabandhan on August 7.', 'In this connection, all offices/ departments shall remain open and celebrate the festival collectively at a suitable time wherein all the lady staff shall tie rakhis to their colleagues, the order, issued on August 1 by Gurpreet Singh, deputy secretary (personnel), had said.', 'To ensure that no one skipped office, an attendance report was to be sent to the government the next evening.', 'The circular was withdrawn through a one-line order issued late in the evening by the UTs department of personnel and administrative reforms.', 'The circular is ridiculous.', 'There are sensitivities involved.', 'How can the government dictate who I should tie rakhi to?', 'We should maintain the professionalism of a workplace an official told Hindustan Times earlier in the day.', 'She refused to be identified.', 'The notice was issued on Daman and Diu administrator and former Gujarat home minister Praful Kodabhai Patels direction, sources said.', 'Rakshabandhan, a celebration of the bond between brothers and sisters, is one of several Hindu festivities and rituals that are no longer confined of private, family affairs but have become tools to push politic al ideologies.', 'In 2014, the year BJP stormed to power at the Centre, Rashtriya Swayamsevak Sangh (RSS) chief Mohan Bhagwat said the festival had national significance and should be celebrated widely to protect Hindu culture and live by the values enshrined in it.', 'The RSS is the ideological parent of the ruling BJP.', 'Last year, women ministers in the Modi government went to the border areas to celebrate the festival with soldiers.', 'A year before, all cabinet ministers were asked to go to their constituencies for the festival.']\n",
    "sentences = []\n",
    "for s in text:\n",
    "    \n",
    "    tokenizer = RegexpTokenizer(r'\\w+')\n",
    "    sentence = tokenizer.tokenize(s)\n",
    "    sentences.append(sentence) \n",
    "\n",
    "# convert words to vectors\n",
    "model = Word2Vec(sentences,\n",
    "        size=150,\n",
    "        window=5,\n",
    "        min_count=1,\n",
    "        workers=10)\n",
    "print model"
   ]
  },
  {
   "cell_type": "code",
   "execution_count": 14,
   "metadata": {},
   "outputs": [
    {
     "name": "stderr",
     "output_type": "stream",
     "text": [
      "/home/shashwat/anaconda2/lib/python2.7/site-packages/ipykernel_launcher.py:7: DeprecationWarning: Call to deprecated `__contains__` (Method will be removed in 4.0.0, use self.wv.__contains__() instead).\n",
      "  import sys\n",
      "/home/shashwat/anaconda2/lib/python2.7/site-packages/ipykernel_launcher.py:8: DeprecationWarning: Call to deprecated `__getitem__` (Method will be removed in 4.0.0, use self.wv.__getitem__() instead).\n",
      "  \n"
     ]
    }
   ],
   "source": [
    "v1 = np.zeros(150)\n",
    "scores = []\n",
    "for s in text:\n",
    "    tokenizer = RegexpTokenizer(r'\\w+')\n",
    "    sentence = tokenizer.tokenize(s)\n",
    "    for w in sentence:\n",
    "        if w in model:\n",
    "            v1 = v1 + model[w]\n",
    "    scores.append([s,v1])"
   ]
  },
  {
   "cell_type": "code",
   "execution_count": 21,
   "metadata": {},
   "outputs": [],
   "source": [
    "from nltk.cluster.util import cosine_distance\n",
    "\n",
    "sim = np.zeros([len(scores),len(scores)])\n",
    "for i in xrange(len(scores)):\n",
    "    for j in xrange(len(scores)):   \n",
    "        sim[i][j] = cosine_distance(scores[i][1],scores[j][1])"
   ]
  },
  {
   "cell_type": "code",
   "execution_count": 22,
   "metadata": {},
   "outputs": [
    {
     "name": "stdout",
     "output_type": "stream",
     "text": [
      "[[ 0.00000000e+00  1.84397000e-01  2.25364736e-01  2.39226125e-01\n",
      "   2.75432004e-01  2.80575033e-01  2.78362010e-01  2.85792559e-01\n",
      "   2.89445080e-01  3.04456073e-01  3.03159949e-01  2.74108747e-01\n",
      "   3.11753351e-01  3.37726129e-01  3.50371470e-01  3.62878231e-01\n",
      "   3.72676250e-01]\n",
      " [ 1.84397000e-01  0.00000000e+00  4.57590796e-02  1.37906101e-01\n",
      "   1.63946186e-01  1.71420347e-01  1.65904079e-01  1.70962308e-01\n",
      "   1.79201528e-01  1.91183231e-01  1.92149816e-01  1.81077520e-01\n",
      "   2.04297380e-01  2.30545277e-01  2.38402696e-01  2.50095578e-01\n",
      "   2.59617635e-01]\n",
      " [ 2.25364736e-01  4.57590796e-02  2.22044605e-16  9.00687280e-02\n",
      "   1.12305258e-01  1.21228797e-01  1.19613060e-01  1.26226180e-01\n",
      "   1.36017237e-01  1.45471709e-01  1.46439178e-01  1.42868735e-01\n",
      "   1.60861908e-01  1.82535876e-01  1.87596200e-01  1.90640094e-01\n",
      "   1.95233529e-01]\n",
      " [ 2.39226125e-01  1.37906101e-01  9.00687280e-02  2.22044605e-16\n",
      "   2.72271161e-02  3.72711547e-02  4.12051106e-02  4.38796712e-02\n",
      "   5.34930031e-02  6.56096585e-02  6.63954476e-02  6.46848209e-02\n",
      "   8.95859085e-02  1.07642227e-01  1.16036031e-01  1.20882306e-01\n",
      "   1.25976486e-01]\n",
      " [ 2.75432004e-01  1.63946186e-01  1.12305258e-01  2.72271161e-02\n",
      "   0.00000000e+00  1.84962227e-02  2.45893098e-02  2.60080507e-02\n",
      "   2.85169830e-02  4.20452924e-02  4.09927451e-02  4.67149433e-02\n",
      "   6.89773726e-02  8.20143564e-02  9.08742111e-02  9.39028109e-02\n",
      "   9.55459948e-02]\n",
      " [ 2.80575033e-01  1.71420347e-01  1.21228797e-01  3.72711547e-02\n",
      "   1.84962227e-02  2.22044605e-16  3.80402429e-03  6.41906408e-03\n",
      "   1.50171240e-02  2.48276492e-02  2.66741493e-02  3.31676406e-02\n",
      "   5.33522794e-02  6.53752897e-02  7.24084092e-02  7.91882060e-02\n",
      "   8.47319809e-02]\n",
      " [ 2.78362010e-01  1.65904079e-01  1.19613060e-01  4.12051106e-02\n",
      "   2.45893098e-02  3.80402429e-03  0.00000000e+00  3.72715832e-03\n",
      "   1.39762677e-02  2.52777758e-02  2.76758358e-02  3.18473615e-02\n",
      "   5.32241354e-02  6.71622454e-02  7.17059100e-02  7.90060771e-02\n",
      "   8.52958486e-02]\n",
      " [ 2.85792559e-01  1.70962308e-01  1.26226180e-01  4.38796712e-02\n",
      "   2.60080507e-02  6.41906408e-03  3.72715832e-03  2.22044605e-16\n",
      "   9.63637021e-03  2.20759617e-02  2.41096894e-02  2.91679078e-02\n",
      "   4.81929483e-02  6.18694793e-02  6.65598251e-02  7.30568317e-02\n",
      "   7.88100397e-02]\n",
      " [ 2.89445080e-01  1.79201528e-01  1.36017237e-01  5.34930031e-02\n",
      "   2.85169830e-02  1.50171240e-02  1.39762677e-02  9.63637021e-03\n",
      "   2.22044605e-16  1.33577373e-02  1.47469935e-02  2.24138164e-02\n",
      "   4.53166117e-02  5.55363617e-02  6.06788251e-02  6.34607942e-02\n",
      "   6.64713350e-02]\n",
      " [ 3.04456073e-01  1.91183231e-01  1.45471709e-01  6.56096585e-02\n",
      "   4.20452924e-02  2.48276492e-02  2.52777758e-02  2.20759617e-02\n",
      "   1.33577373e-02  1.11022302e-16  2.99545298e-03  1.40593942e-02\n",
      "   3.68368751e-02  4.21421530e-02  4.55697649e-02  4.81196937e-02\n",
      "   5.26853707e-02]\n",
      " [ 3.03159949e-01  1.92149816e-01  1.46439178e-01  6.63954476e-02\n",
      "   4.09927451e-02  2.66741493e-02  2.76758358e-02  2.41096894e-02\n",
      "   1.47469935e-02  2.99545298e-03 -2.22044605e-16  1.32351230e-02\n",
      "   3.76248183e-02  4.22916473e-02  4.71296722e-02  4.81839544e-02\n",
      "   5.15885476e-02]\n",
      " [ 2.74108747e-01  1.81077520e-01  1.42868735e-01  6.46848209e-02\n",
      "   4.67149433e-02  3.31676406e-02  3.18473615e-02  2.91679078e-02\n",
      "   2.24138164e-02  1.40593942e-02  1.32351230e-02  0.00000000e+00\n",
      "   2.32153626e-02  3.03319837e-02  3.58027011e-02  4.01495126e-02\n",
      "   4.45060111e-02]\n",
      " [ 3.11753351e-01  2.04297380e-01  1.60861908e-01  8.95859085e-02\n",
      "   6.89773726e-02  5.33522794e-02  5.32241354e-02  4.81929483e-02\n",
      "   4.53166117e-02  3.68368751e-02  3.76248183e-02  2.32153626e-02\n",
      "   0.00000000e+00  1.53654295e-02  1.99653745e-02  2.82182395e-02\n",
      "   3.37145378e-02]\n",
      " [ 3.37726129e-01  2.30545277e-01  1.82535876e-01  1.07642227e-01\n",
      "   8.20143564e-02  6.53752897e-02  6.71622454e-02  6.18694793e-02\n",
      "   5.55363617e-02  4.21421530e-02  4.22916473e-02  3.03319837e-02\n",
      "   1.53654295e-02 -2.22044605e-16  3.29457445e-03  9.04142992e-03\n",
      "   1.53322062e-02]\n",
      " [ 3.50371470e-01  2.38402696e-01  1.87596200e-01  1.16036031e-01\n",
      "   9.08742111e-02  7.24084092e-02  7.17059100e-02  6.65598251e-02\n",
      "   6.06788251e-02  4.55697649e-02  4.71296722e-02  3.58027011e-02\n",
      "   1.99653745e-02  3.29457445e-03  0.00000000e+00  5.22201261e-03\n",
      "   1.28726430e-02]\n",
      " [ 3.62878231e-01  2.50095578e-01  1.90640094e-01  1.20882306e-01\n",
      "   9.39028109e-02  7.91882060e-02  7.90060771e-02  7.30568317e-02\n",
      "   6.34607942e-02  4.81196937e-02  4.81839544e-02  4.01495126e-02\n",
      "   2.82182395e-02  9.04142992e-03  5.22201261e-03 -2.22044605e-16\n",
      "   4.12852115e-03]\n",
      " [ 3.72676250e-01  2.59617635e-01  1.95233529e-01  1.25976486e-01\n",
      "   9.55459948e-02  8.47319809e-02  8.52958486e-02  7.88100397e-02\n",
      "   6.64713350e-02  5.26853707e-02  5.15885476e-02  4.45060111e-02\n",
      "   3.37145378e-02  1.53322062e-02  1.28726430e-02  4.12852115e-03\n",
      "   0.00000000e+00]]\n"
     ]
    }
   ],
   "source": [
    "print sim"
   ]
  },
  {
   "cell_type": "code",
   "execution_count": null,
   "metadata": {
    "collapsed": true
   },
   "outputs": [],
   "source": []
  }
 ],
 "metadata": {
  "kernelspec": {
   "display_name": "Python 3",
   "language": "python",
   "name": "python3"
  },
  "language_info": {
   "codemirror_mode": {
    "name": "ipython",
    "version": 2
   },
   "file_extension": ".py",
   "mimetype": "text/x-python",
   "name": "python",
   "nbconvert_exporter": "python",
   "pygments_lexer": "ipython2",
   "version": "2.7.14"
  }
 },
 "nbformat": 4,
 "nbformat_minor": 2
}
