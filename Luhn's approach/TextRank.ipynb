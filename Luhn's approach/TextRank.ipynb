{
 "cells": [
  {
   "cell_type": "code",
   "execution_count": 1,
   "metadata": {
    "collapsed": true
   },
   "outputs": [],
   "source": [
    "from nltk.corpus import brown, stopwords\n",
    "from nltk.cluster.util import cosine_distance\n",
    "\n",
    "def sentence_similarity(sent1, sent2, stopwords=None):\n",
    "    if stopwords is None:\n",
    "        stopwords = []\n",
    " \n",
    "    sent1 = [w.lower() for w in sent1]\n",
    "    sent2 = [w.lower() for w in sent2]\n",
    " \n",
    "    all_words = list(set(sent1 + sent2))\n",
    " \n",
    "    vector1 = [0] * len(all_words)\n",
    "    vector2 = [0] * len(all_words)\n",
    " \n",
    "    # build the vector for the first sentence\n",
    "    for w in sent1:\n",
    "        if w in stopwords:\n",
    "            continue\n",
    "        vector1[all_words.index(w)] += 1\n",
    " \n",
    "    # build the vector for the second sentence\n",
    "    for w in sent2:\n",
    "        if w in stopwords:\n",
    "            continue\n",
    "        vector2[all_words.index(w)] += 1\n",
    "#     print vector1,vector2\n",
    "    return 1 - cosine_distance(vector1, vector2)"
   ]
  },
  {
   "cell_type": "code",
   "execution_count": 24,
   "metadata": {},
   "outputs": [
    {
     "name": "stdout",
     "output_type": "stream",
     "text": [
      "17\n"
     ]
    }
   ],
   "source": [
    "import numpy as np\n",
    "from nltk.tokenize import word_tokenize\n",
    "# sentences =[\"Lashkar-e-Taiba's Kashmir commander Abu Dujana was killed in an encounter in a village in Pulwama district of Jammu and Kashmir earlier this week.\", 'Dujana, who had managed to give the security forces a slip several times in the past, carried a bounty of Rs 15 lakh on his head.', 'Reports say that Dujana had come to meet his wife when he was trapped inside a house in Hakripora village.', 'Security officials involved in the encounter tried their best to convince Dujana to surrender but he refused, reports say.', 'According to reports, Dujana rejected call for surrender from an Army officer.', 'The Army had commissioned a local to start a telephonic conversation with Dujana.', 'After initiating the talk, the local villager handed over the phone to the army officer.', '\"Kya haal hai?', 'Maine kaha, kya haal hai (How are you.', 'I asked, how are you)?\"', 'Dujana is heard asking the officer.', 'The officer replies: \"Humara haal chhor Dujana.', 'Surrender kyun nahi kar deta.', \"Tu galat kar rha hai (Why don't you surrender?\", 'You have married this girl.', 'What you are doing isn\\'t right.)\"', 'When told that he is being used by Pakistani agencies as a pawn, Dujana, who sounded calm and unperturbed of the situation, said \"Hum nikley they shaheed hone.', 'Main kya karu.', 'Jisko game khelna hai, khelo.', 'Kabhi hum aage, kabhi aap, aaj aapne pakad liya, mubarak ho aapko.', 'Jisko jo karna hai karlo (I had left home for martyrdom.', 'What can I do?', 'Today you caught me.', 'Congratulations.', '\"Surrender nahi kar sakta.', 'Jo meri kismat may likha hoga, Allah wahi karega, theek hai?', \"(I won't surrender.\", 'Allaah would do whatever is there in my fate)\" Dujana went on to say.', \"Dujana, who belonged to Pakistan, was Lashkar-e-Taiba's divisional commander in south Kashmir.\", 'He was among the top 10 terrorists identified by the Indian Army in Jammu and Kashmir.', \"With a Rs 15 lakh bounty on his head, Dujana was labelled an 'A++' terrorist - the top grade which was also given to Burhan Wani.\", 'Security forces received inputs that during the last few days he was frequenting the houses of his wife Rukaiya and girlfriend Shazia.', 'Police was keeping a watch on both the houses.', \"when it was confirmed he was present in his wife's house, security forces moved in to trap him.\", 'ALSO READ: After Abu Dujana, security forces prepare new hitlist of most wanted terrorists Abu Dujana encounter: Jilted lover turned police informer led security forces to LeT commander Top Lashkar-e-Taiba terrorist Abu Dujana killed in Pulwama encounter How Lashkar terrorist Abu Dujana met his wife, and death.', 'A blow-by-blow account WATCH: Abu Dujana encounter one of the biggest successes of security forces, says DG CRPF']\n",
    "#sentences = [\"My name is Shashwat Sanghavi.\"]\n",
    "sentences = ['The Daman and Diu administration on Wednesday withdrew a circular that asked women staff to tie rakhis on male colleagues after the order triggered a backlash from employees and was ripped apart on social media.', 'The union territorys administration was forced to retreat within 24 hours of issuing the circular that made it compulsory for its staff to celebrate Rakshabandhan at workplace.', 'It has been decided to celebrate the festival of Rakshabandhan on August 7.', 'In this connection, all offices/ departments shall remain open and celebrate the festival collectively at a suitable time wherein all the lady staff shall tie rakhis to their colleagues, the order, issued on August 1 by Gurpreet Singh, deputy secretary (personnel), had said.', 'To ensure that no one skipped office, an attendance report was to be sent to the government the next evening.', 'The circular was withdrawn through a one-line order issued late in the evening by the UTs department of personnel and administrative reforms.', 'The circular is ridiculous.', 'There are sensitivities involved.', 'How can the government dictate who I should tie rakhi to?', 'We should maintain the professionalism of a workplace an official told Hindustan Times earlier in the day.', 'She refused to be identified.', 'The notice was issued on Daman and Diu administrator and former Gujarat home minister Praful Kodabhai Patels direction, sources said.', 'Rakshabandhan, a celebration of the bond between brothers and sisters, is one of several Hindu festivities and rituals that are no longer confined of private, family affairs but have become tools to push politic al ideologies.', 'In 2014, the year BJP stormed to power at the Centre, Rashtriya Swayamsevak Sangh (RSS) chief Mohan Bhagwat said the festival had national significance and should be celebrated widely to protect Hindu culture and live by the values enshrined in it.', 'The RSS is the ideological parent of the ruling BJP.', 'Last year, women ministers in the Modi government went to the border areas to celebrate the festival with soldiers.', 'A year before, all cabinet ministers were asked to go to their constituencies for the festival.']\n",
    "tokenized_words = []\n",
    "for s in sentences:\n",
    "    tokenized_words.append(word_tokenize(s))\n",
    "# print tokenized_words\n",
    "# Get a text from the Brown Corpus\n",
    "# sentences = brown.sents('ca01')\n",
    "\n",
    "# print(sentences)\n",
    "# [[u'The', u'Fulton', u'County', u'Grand', u'Jury', u'said', u'Friday', u'an', u'investigation', u'of', u\"Atlanta's\", u'recent', u'primary', u'election', u'produced', u'``', u'no', u'evidence', u\"''\", u'that', u'any', u'irregularities', u'took', u'place', u'.'], [u'The', u'jury', u'further', u'said', u'in', u'term-end', u'presentments', u'that', u'the', u'City', u'Executive', u'Committee', u',', u'which', u'had', u'over-all', u'charge', u'of', u'the', u'election', u',', u'``', u'deserves', u'the', u'praise', u'and', u'thanks', u'of', u'the', u'City', u'of', u'Atlanta', u\"''\", u'for', u'the', u'manner', u'in', u'which', u'the', u'election', u'was', u'conducted', u'.'], ...]\n",
    " \n",
    "print(len(sentences))  #  98\n",
    " \n",
    "# get the english list of stopwords\n",
    "stop_words = stopwords.words('english')\n",
    " \n",
    " \n",
    "def build_similarity_matrix(sentences, stopwords=None):\n",
    "    # Create an empty similarity matrix\n",
    "    S = np.zeros((len(sentences), len(sentences)))\n",
    " \n",
    " \n",
    "    for idx1 in range(len(sentences)):\n",
    "        for idx2 in range(len(sentences)):\n",
    "            if idx1 == idx2:\n",
    "                continue\n",
    " \n",
    "            S[idx1][idx2] = sentence_similarity(sentences[idx1], sentences[idx2], stop_words)\n",
    " \n",
    "    # normalize the matrix row-wise\n",
    "    for idx in range(len(S)):\n",
    "        S[idx] /= S[idx].sum()\n",
    " \n",
    "    return S\n",
    " \n",
    "S = build_similarity_matrix(sentences, stop_words) "
   ]
  },
  {
   "cell_type": "code",
   "execution_count": 25,
   "metadata": {},
   "outputs": [
    {
     "name": "stdout",
     "output_type": "stream",
     "text": [
      "[[-2.22044605e-16  6.51917531e-07  8.13705062e-07  8.39936108e-07\n",
      "   9.42788963e-07  9.76085365e-07  9.74288078e-07  9.97924567e-07\n",
      "   1.00612693e-06  1.05646421e-06  1.04987465e-06  9.61524932e-07\n",
      "   1.08644473e-06  1.16256317e-06  1.20758070e-06  1.24902726e-06\n",
      "   1.27045690e-06]\n",
      " [ 6.51917531e-07  2.22044605e-16  1.40988127e-07  3.70419513e-07\n",
      "   4.24577733e-07  4.51942620e-07  4.36155892e-07  4.48823357e-07\n",
      "   4.68944814e-07  5.02445637e-07  5.02396981e-07  4.69651784e-07\n",
      "   5.28327000e-07  5.94733140e-07  6.20405514e-07  6.54334302e-07\n",
      "   6.73442485e-07]\n",
      " [ 8.13705062e-07  1.40988127e-07  0.00000000e+00  2.28500094e-07\n",
      "   2.75984648e-07  3.02133926e-07  2.96395398e-07  3.13762527e-07\n",
      "   3.39266658e-07  3.64390718e-07  3.66532794e-07  3.54973157e-07\n",
      "   3.97005868e-07  4.49072880e-07  4.65421386e-07  4.75592834e-07\n",
      "   4.82212957e-07]\n",
      " [ 8.39936108e-07  3.70419513e-07  2.28500094e-07  2.22044605e-16\n",
      "   7.09495268e-08  9.70590588e-08  1.07087641e-07  1.15490065e-07\n",
      "   1.40216823e-07  1.71242897e-07  1.77003676e-07  1.69103664e-07\n",
      "   2.32798914e-07  2.69108342e-07  2.88802177e-07  2.98225986e-07\n",
      "   3.04615533e-07]\n",
      " [ 9.42788963e-07  4.24577733e-07  2.75984648e-07  7.09495268e-08\n",
      "  -2.22044605e-16  4.24899645e-08  5.49952567e-08  5.87256490e-08\n",
      "   6.49257387e-08  9.58160853e-08  9.37529443e-08  1.01836383e-07\n",
      "   1.53708022e-07  1.78427643e-07  1.98657049e-07  2.06119537e-07\n",
      "   2.06554567e-07]\n",
      " [ 9.76085365e-07  4.51942620e-07  3.02133926e-07  9.70590588e-08\n",
      "   4.24899645e-08  0.00000000e+00  8.25746449e-09  1.41399595e-08\n",
      "   3.33697183e-08  5.29605587e-08  5.92341252e-08  7.08205855e-08\n",
      "   1.17013865e-07  1.37375366e-07  1.51585849e-07  1.64400101e-07\n",
      "   1.73862232e-07]\n",
      " [ 9.74288078e-07  4.36155892e-07  2.96395398e-07  1.07087641e-07\n",
      "   5.49952567e-08  8.25746449e-09  0.00000000e+00  7.94887955e-09\n",
      "   3.00477395e-08  5.28689775e-08  5.99737991e-08  6.63432032e-08\n",
      "   1.12666069e-07  1.36865331e-07  1.46142521e-07  1.60277404e-07\n",
      "   1.71111719e-07]\n",
      " [ 9.97924567e-07  4.48823357e-07  3.13762527e-07  1.15490065e-07\n",
      "   5.87256490e-08  1.41399595e-08  7.94887955e-09 -2.22044605e-16\n",
      "   2.01124480e-08  4.48560534e-08  5.08211286e-08  5.91979631e-08\n",
      "   9.99266339e-08  1.23000291e-07  1.32422569e-07  1.44918253e-07\n",
      "   1.54615295e-07]\n",
      " [ 1.00612693e-06  4.68944814e-07  3.39266658e-07  1.40216823e-07\n",
      "   6.49257387e-08  3.33697183e-08  3.00477395e-08  2.01124480e-08\n",
      "   2.22044605e-16  2.69141412e-08  3.02490305e-08  4.46694289e-08\n",
      "   9.20462326e-08  1.09561103e-07  1.20640778e-07  1.26283243e-07\n",
      "   1.30233754e-07]\n",
      " [ 1.05646421e-06  5.02445637e-07  3.64390718e-07  1.71242897e-07\n",
      "   9.58160853e-08  5.29605587e-08  5.28689775e-08  4.48560534e-08\n",
      "   2.69141412e-08  0.00000000e+00  6.40507614e-09  2.77575734e-08\n",
      "   7.11970045e-08  7.84875622e-08  8.53493978e-08  8.99908500e-08\n",
      "   9.71734176e-08]\n",
      " [ 1.04987465e-06  5.02396981e-07  3.66532794e-07  1.77003676e-07\n",
      "   9.37529443e-08  5.92341252e-08  5.99737991e-08  5.08211286e-08\n",
      "   3.02490305e-08  6.40507614e-09 -2.22044605e-16  2.47228524e-08\n",
      "   6.83623019e-08  7.55161226e-08  8.61636289e-08  8.92014379e-08\n",
      "   9.39632149e-08]\n",
      " [ 9.61524932e-07  4.69651784e-07  3.54973157e-07  1.69103664e-07\n",
      "   1.01836383e-07  7.08205855e-08  6.63432032e-08  5.91979631e-08\n",
      "   4.46694289e-08  2.77575734e-08  2.47228524e-08  0.00000000e+00\n",
      "   4.55374213e-08  5.79752879e-08  7.05060446e-08  8.04373265e-08\n",
      "   8.73561039e-08]\n",
      " [ 1.08644473e-06  5.28327000e-07  3.97005868e-07  2.32798914e-07\n",
      "   1.53708022e-07  1.17013865e-07  1.12666069e-07  9.99266339e-08\n",
      "   9.20462326e-08  7.11970045e-08  6.83623019e-08  4.55374213e-08\n",
      "  -2.22044605e-16  2.72653184e-08  3.71943877e-08  5.46695009e-08\n",
      "   6.33217704e-08]\n",
      " [ 1.16256317e-06  5.94733140e-07  4.49072880e-07  2.69108342e-07\n",
      "   1.78427643e-07  1.37375366e-07  1.36865331e-07  1.23000291e-07\n",
      "   1.09561103e-07  7.84875622e-08  7.55161226e-08  5.79752879e-08\n",
      "   2.72653184e-08  1.11022302e-16  6.31095232e-09  1.77805517e-08\n",
      "   2.89111620e-08]\n",
      " [ 1.20758070e-06  6.20405514e-07  4.65421386e-07  2.88802177e-07\n",
      "   1.98657049e-07  1.51585849e-07  1.46142521e-07  1.32422569e-07\n",
      "   1.20640778e-07  8.53493978e-08  8.61636289e-08  7.05060446e-08\n",
      "   3.71943877e-08  6.31095232e-09 -2.22044605e-16  1.00765458e-08\n",
      "   2.46289010e-08]\n",
      " [ 1.24902726e-06  6.54334302e-07  4.75592834e-07  2.98225986e-07\n",
      "   2.06119537e-07  1.64400101e-07  1.60277404e-07  1.44918253e-07\n",
      "   1.26283243e-07  8.99908500e-08  8.92014379e-08  8.04373265e-08\n",
      "   5.46695009e-08  1.77805517e-08  1.00765458e-08  0.00000000e+00\n",
      "   7.99173461e-09]\n",
      " [ 1.27045690e-06  6.73442485e-07  4.82212957e-07  3.04615533e-07\n",
      "   2.06554567e-07  1.73862232e-07  1.71111719e-07  1.54615295e-07\n",
      "   1.30233754e-07  9.71734176e-08  9.39632149e-08  8.73561039e-08\n",
      "   6.33217704e-08  2.89111620e-08  2.46289010e-08  7.99173461e-09\n",
      "  -2.22044605e-16]]\n"
     ]
    },
    {
     "name": "stderr",
     "output_type": "stream",
     "text": [
      "/home/shashwat/anaconda2/lib/python2.7/site-packages/ipykernel_launcher.py:24: DeprecationWarning: Call to deprecated `__contains__` (Method will be removed in 4.0.0, use self.wv.__contains__() instead).\n",
      "/home/shashwat/anaconda2/lib/python2.7/site-packages/ipykernel_launcher.py:25: DeprecationWarning: Call to deprecated `__getitem__` (Method will be removed in 4.0.0, use self.wv.__getitem__() instead).\n"
     ]
    }
   ],
   "source": [
    "from gensim.models import Word2Vec\n",
    "import numpy as np\n",
    "from nltk.tokenize import RegexpTokenizer\n",
    "\n",
    "def sim_scores(text):\n",
    "#     sentences = []\n",
    "#     for s in text:\n",
    "#         tokenizer = RegexpTokenizer(r'\\w+')\n",
    "#         sentence = tokenizer.tokenize(s)\n",
    "#         sentences.append(sentence) \n",
    "\n",
    "#     # convert words to vectors\n",
    "#     model = Word2Vec(sentences,\n",
    "#             window=5,\n",
    "#             min_count=1,\n",
    "#             workers=10)\n",
    "    v1 = np.zeros(150)\n",
    "    scores = []\n",
    "    model = Word2Vec.load('model')\n",
    "    for s in text:\n",
    "        tokenizer = RegexpTokenizer(r'\\w+')\n",
    "        sentence = tokenizer.tokenize(s)\n",
    "        for w in sentence:\n",
    "            if w in model:\n",
    "                v1 = v1 + model[w]\n",
    "        scores.append([s,v1])\n",
    "    \n",
    "    from nltk.cluster.util import cosine_distance\n",
    "\n",
    "    sim = np.zeros([len(scores),len(scores)])\n",
    "    for i in xrange(len(scores)):\n",
    "        for j in xrange(len(scores)):   \n",
    "            sim[i][j] = cosine_distance(scores[i][1],scores[j][1])\n",
    "    return sim\n",
    "\n",
    "S = sim_scores(sentences) \n",
    "print S"
   ]
  },
  {
   "cell_type": "code",
   "execution_count": 26,
   "metadata": {
    "collapsed": true
   },
   "outputs": [],
   "source": [
    "def pagerank(A, eps=0.0001, d=0.85):\n",
    "    P = np.ones(len(A)) / len(A)\n",
    "    while True:\n",
    "        new_P = np.ones(len(A)) * (1 - d) / len(A) + d * A.T.dot(P)\n",
    "        delta = abs((new_P - P).sum())\n",
    "        print delta\n",
    "        if delta <= eps:\n",
    "            return new_P\n",
    "        P = new_P"
   ]
  },
  {
   "cell_type": "code",
   "execution_count": 29,
   "metadata": {},
   "outputs": [
    {
     "name": "stdout",
     "output_type": "stream",
     "text": [
      "[[0.         0.06531842 0.0637535  0.06526653 0.06290501 0.0656207\n",
      "  0.04705946 0.05239699 0.06327958 0.06529721 0.05669364 0.06550535\n",
      "  0.06554354 0.06593329 0.06485405 0.06513452 0.0654382 ]\n",
      " [0.06725221 0.         0.06304395 0.06419066 0.06028348 0.06618365\n",
      "  0.05446972 0.04890272 0.06367096 0.06538261 0.05403796 0.06795784\n",
      "  0.06570731 0.06607124 0.06480522 0.06354171 0.06449874]\n",
      " [0.06459289 0.06203734 0.         0.06538149 0.06416708 0.06427665\n",
      "  0.04391668 0.05556388 0.06373536 0.06376713 0.06197196 0.06295834\n",
      "  0.06653786 0.06658325 0.06412228 0.06466322 0.0657246 ]\n",
      " [0.06552492 0.06259172 0.06478734 0.         0.06222686 0.06472641\n",
      "  0.04853678 0.05526835 0.06187024 0.06508415 0.05826229 0.06332893\n",
      "  0.06607312 0.06596403 0.06537772 0.06489655 0.0654806 ]\n",
      " [0.0655245  0.06098821 0.06597055 0.0645625  0.         0.06684224\n",
      "  0.03630377 0.05995013 0.06253746 0.06382088 0.06229957 0.06446873\n",
      "  0.0660068  0.06612082 0.06222851 0.0663015  0.06607384]\n",
      " [0.0657105  0.06436855 0.06352819 0.06455939 0.06425789 0.\n",
      "  0.04626121 0.05708858 0.0624291  0.06400897 0.05792204 0.06545144\n",
      "  0.06518581 0.06557285 0.06333411 0.06563781 0.06468357]\n",
      " [0.06680411 0.0751001  0.06153258 0.06862956 0.04947542 0.0655812\n",
      "  0.         0.04520666 0.06246077 0.0651599  0.04813895 0.07153305\n",
      "  0.06372702 0.06581898 0.06762472 0.0591921  0.06401488]\n",
      " [0.0625235  0.05667598 0.06544084 0.06568973 0.06867658 0.06802871\n",
      "  0.03799996 0.         0.05918584 0.05924567 0.06835578 0.05907884\n",
      "  0.06504441 0.06444398 0.0600234  0.07100462 0.06858214]\n",
      " [0.06647364 0.06496155 0.06608238 0.06473687 0.06306779 0.06549061\n",
      "  0.04622074 0.05210348 0.         0.06517297 0.05469977 0.06449595\n",
      "  0.06510372 0.06836411 0.06490813 0.06457199 0.06354631]\n",
      " [0.06687184 0.06503393 0.06445623 0.0663908  0.062747   0.06546295\n",
      "  0.04700811 0.05084735 0.06353752 0.         0.05569529 0.06536484\n",
      "  0.0668226  0.06648129 0.06542855 0.06369232 0.06415939]\n",
      " [0.06364157 0.05891618 0.06866273 0.06514456 0.06713873 0.06493165\n",
      "  0.03806684 0.06430501 0.05845291 0.0610487  0.         0.06067521\n",
      "  0.06603404 0.06403655 0.06172291 0.0676851  0.0695373 ]\n",
      " [0.0667918  0.0673     0.06336056 0.06431801 0.06310693 0.06664563\n",
      "  0.05138033 0.05048256 0.06260269 0.06507917 0.05511263 0.\n",
      "  0.06572334 0.06595271 0.06426881 0.06357319 0.06430161]\n",
      " [0.06551149 0.06378674 0.06564109 0.06578039 0.06333705 0.0650649\n",
      "  0.04486989 0.05448295 0.06194519 0.06521723 0.05879616 0.06442595\n",
      "  0.         0.06624654 0.06456996 0.06480141 0.06552306]\n",
      " [0.0657001  0.06394444 0.06548557 0.06547153 0.06325299 0.06525164\n",
      "  0.04620151 0.05381541 0.06484904 0.06468626 0.05684375 0.06445365\n",
      "  0.06604453 0.         0.06473159 0.06470255 0.06456545]\n",
      " [0.06647206 0.06451209 0.06486798 0.06674455 0.06123123 0.06482549\n",
      "  0.04882601 0.05155677 0.06333084 0.06548181 0.05635622 0.06460348\n",
      "  0.06621326 0.06658204 0.         0.06406504 0.06433114]\n",
      " [0.06576229 0.06230942 0.06443805 0.06526366 0.06426442 0.06617987\n",
      "  0.04209914 0.06007799 0.06206175 0.06279198 0.06087687 0.06294964\n",
      "  0.06545797 0.06555802 0.06310805 0.         0.06680088]\n",
      " [0.06568779 0.06288306 0.06511794 0.06547116 0.06367433 0.06484156\n",
      "  0.04526661 0.05769357 0.06072364 0.06288758 0.06218199 0.06330365\n",
      "  0.06580515 0.06504176 0.06300464 0.06641555 0.        ]]\n",
      "4.163336342344337e-17\n"
     ]
    }
   ],
   "source": [
    "from operator import itemgetter \n",
    "\n",
    "def textrank(sentences, top_n=4, stopwords=None):\n",
    "    \"\"\"\n",
    "    sentences = a list of sentences [[w11, w12, ...], [w21, w22, ...], ...]\n",
    "    top_n = how may sentences the summary should contain\n",
    "    stopwords = a list of stopwords\n",
    "    \"\"\"\n",
    "    S = build_similarity_matrix(sentences, stop_words) \n",
    "#     S = sim_scores(sentences)\n",
    "    print S\n",
    "    sentence_ranks = pagerank(S)\n",
    "    # Sort the sentence ranks\n",
    "    ranked_sentence_indexes = [item[0] for item in sorted(enumerate(sentence_ranks), key=lambda item: -item[1])]\n",
    "    selected_sentences = sorted(ranked_sentence_indexes[:top_n])\n",
    "    summary = itemgetter(*selected_sentences)(sentences)\n",
    "    return summary\n",
    " \n",
    "summary = []\n",
    "for idx, sentence in enumerate(textrank(sentences,len(sentences)/5, stopwords=stopwords.words('english'))):\n",
    "#     print(\"%s. %s\" % ((idx + 1), ' '.join(sentence)))\n",
    "    summary.append(sentence)"
   ]
  },
  {
   "cell_type": "code",
   "execution_count": 28,
   "metadata": {},
   "outputs": [
    {
     "data": {
      "text/plain": [
       "['The Daman and Diu administration on Wednesday withdrew a circular that asked women staff to tie rakhis on male colleagues after the order triggered a backlash from employees and was ripped apart on social media.',\n",
       " 'The union territorys administration was forced to retreat within 24 hours of issuing the circular that made it compulsory for its staff to celebrate Rakshabandhan at workplace.',\n",
       " 'It has been decided to celebrate the festival of Rakshabandhan on August 7.']"
      ]
     },
     "execution_count": 28,
     "metadata": {},
     "output_type": "execute_result"
    }
   ],
   "source": [
    "summary"
   ]
  },
  {
   "cell_type": "code",
   "execution_count": 30,
   "metadata": {},
   "outputs": [
    {
     "data": {
      "text/plain": [
       "['The Daman and Diu administration on Wednesday withdrew a circular that asked women staff to tie rakhis on male colleagues after the order triggered a backlash from employees and was ripped apart on social media.',\n",
       " 'Rakshabandhan, a celebration of the bond between brothers and sisters, is one of several Hindu festivities and rituals that are no longer confined of private, family affairs but have become tools to push politic al ideologies.',\n",
       " 'In 2014, the year BJP stormed to power at the Centre, Rashtriya Swayamsevak Sangh (RSS) chief Mohan Bhagwat said the festival had national significance and should be celebrated widely to protect Hindu culture and live by the values enshrined in it.']"
      ]
     },
     "execution_count": 30,
     "metadata": {},
     "output_type": "execute_result"
    }
   ],
   "source": [
    "summary\n"
   ]
  },
  {
   "cell_type": "code",
   "execution_count": 34,
   "metadata": {},
   "outputs": [],
   "source": [
    "summary = ['The Daman and Diu administration on Wednesday withdrew a circular that asked women staff to tie rakhis on male colleagues after the order triggered a backlash from employees and was ripped apart on social media.',\n",
    " 'Rakshabandhan, a celebration of the bond between brothers and sisters, is one of several Hindu festivities and rituals that are no longer confined of private, family affairs but have become tools to push politic al ideologies.',\n",
    " 'In 2014, the year BJP stormed to power at the Centre, Rashtriya Swayamsevak Sangh (RSS) chief Mohan Bhagwat said the festival had national significance and should be celebrated widely to protect Hindu culture and live by the values enshrined in it.']\n",
    "machine_summary = \"\"\n",
    "for each in summary:\n",
    "    machine_summary = machine_summary+each+\" \""
   ]
  },
  {
   "cell_type": "code",
   "execution_count": 35,
   "metadata": {},
   "outputs": [
    {
     "data": {
      "text/plain": [
       "'The Daman and Diu administration on Wednesday withdrew a circular that asked women staff to tie rakhis on male colleagues after the order triggered a backlash from employees and was ripped apart on social media. Rakshabandhan, a celebration of the bond between brothers and sisters, is one of several Hindu festivities and rituals that are no longer confined of private, family affairs but have become tools to push politic al ideologies. In 2014, the year BJP stormed to power at the Centre, Rashtriya Swayamsevak Sangh (RSS) chief Mohan Bhagwat said the festival had national significance and should be celebrated widely to protect Hindu culture and live by the values enshrined in it. '"
      ]
     },
     "execution_count": 35,
     "metadata": {},
     "output_type": "execute_result"
    }
   ],
   "source": [
    "machine_summary"
   ]
  },
  {
   "cell_type": "markdown",
   "metadata": {},
   "source": []
  },
  {
   "cell_type": "markdown",
   "metadata": {},
   "source": []
  }
 ],
 "metadata": {
  "kernelspec": {
   "display_name": "Python 3",
   "language": "python",
   "name": "python3"
  },
  "language_info": {
   "codemirror_mode": {
    "name": "ipython",
    "version": 2
   },
   "file_extension": ".py",
   "mimetype": "text/x-python",
   "name": "python",
   "nbconvert_exporter": "python",
   "pygments_lexer": "ipython2",
   "version": "2.7.14"
  }
 },
 "nbformat": 4,
 "nbformat_minor": 2
}
