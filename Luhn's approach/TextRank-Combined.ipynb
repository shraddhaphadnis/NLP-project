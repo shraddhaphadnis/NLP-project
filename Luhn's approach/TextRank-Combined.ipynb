{
 "cells": [
  {
   "cell_type": "code",
   "execution_count": 16,
   "metadata": {},
   "outputs": [],
   "source": [
    "from nltk.corpus import brown, stopwords\n",
    "from nltk.cluster.util import cosine_distance\n",
    "import numpy as np\n",
    "from nltk.tokenize import word_tokenize\n",
    "from gensim.models import Word2Vec\n",
    "import numpy as np\n",
    "from nltk.tokenize import RegexpTokenizer\n",
    "from operator import itemgetter "
   ]
  },
  {
   "cell_type": "code",
   "execution_count": 17,
   "metadata": {
    "collapsed": true
   },
   "outputs": [],
   "source": [
    "def sentence_similarity(sent1, sent2, stopwords=None):\n",
    "    if stopwords is None:\n",
    "        stopwords = []\n",
    " \n",
    "    sent1 = [w.lower() for w in sent1]\n",
    "    sent2 = [w.lower() for w in sent2]\n",
    " \n",
    "    all_words = list(set(sent1 + sent2))\n",
    " \n",
    "    vector1 = [0] * len(all_words)\n",
    "    vector2 = [0] * len(all_words)\n",
    " \n",
    "    # build the vector for the first sentence\n",
    "    for w in sent1:\n",
    "        if w in stopwords:\n",
    "            continue\n",
    "        vector1[all_words.index(w)] += 1\n",
    " \n",
    "    # build the vector for the second sentence\n",
    "    for w in sent2:\n",
    "        if w in stopwords:\n",
    "            continue\n",
    "        vector2[all_words.index(w)] += 1\n",
    "#     print vector1,vector2\n",
    "    return 1 - cosine_distance(vector1, vector2)"
   ]
  },
  {
   "cell_type": "code",
   "execution_count": 18,
   "metadata": {},
   "outputs": [
    {
     "name": "stdout",
     "output_type": "stream",
     "text": [
      "17\n"
     ]
    }
   ],
   "source": [
    "# sentences =[\"Lashkar-e-Taiba's Kashmir commander Abu Dujana was killed in an encounter in a village in Pulwama district of Jammu and Kashmir earlier this week.\", 'Dujana, who had managed to give the security forces a slip several times in the past, carried a bounty of Rs 15 lakh on his head.', 'Reports say that Dujana had come to meet his wife when he was trapped inside a house in Hakripora village.', 'Security officials involved in the encounter tried their best to convince Dujana to surrender but he refused, reports say.', 'According to reports, Dujana rejected call for surrender from an Army officer.', 'The Army had commissioned a local to start a telephonic conversation with Dujana.', 'After initiating the talk, the local villager handed over the phone to the army officer.', '\"Kya haal hai?', 'Maine kaha, kya haal hai (How are you.', 'I asked, how are you)?\"', 'Dujana is heard asking the officer.', 'The officer replies: \"Humara haal chhor Dujana.', 'Surrender kyun nahi kar deta.', \"Tu galat kar rha hai (Why don't you surrender?\", 'You have married this girl.', 'What you are doing isn\\'t right.)\"', 'When told that he is being used by Pakistani agencies as a pawn, Dujana, who sounded calm and unperturbed of the situation, said \"Hum nikley they shaheed hone.', 'Main kya karu.', 'Jisko game khelna hai, khelo.', 'Kabhi hum aage, kabhi aap, aaj aapne pakad liya, mubarak ho aapko.', 'Jisko jo karna hai karlo (I had left home for martyrdom.', 'What can I do?', 'Today you caught me.', 'Congratulations.', '\"Surrender nahi kar sakta.', 'Jo meri kismat may likha hoga, Allah wahi karega, theek hai?', \"(I won't surrender.\", 'Allaah would do whatever is there in my fate)\" Dujana went on to say.', \"Dujana, who belonged to Pakistan, was Lashkar-e-Taiba's divisional commander in south Kashmir.\", 'He was among the top 10 terrorists identified by the Indian Army in Jammu and Kashmir.', \"With a Rs 15 lakh bounty on his head, Dujana was labelled an 'A++' terrorist - the top grade which was also given to Burhan Wani.\", 'Security forces received inputs that during the last few days he was frequenting the houses of his wife Rukaiya and girlfriend Shazia.', 'Police was keeping a watch on both the houses.', \"when it was confirmed he was present in his wife's house, security forces moved in to trap him.\", 'ALSO READ: After Abu Dujana, security forces prepare new hitlist of most wanted terrorists Abu Dujana encounter: Jilted lover turned police informer led security forces to LeT commander Top Lashkar-e-Taiba terrorist Abu Dujana killed in Pulwama encounter How Lashkar terrorist Abu Dujana met his wife, and death.', 'A blow-by-blow account WATCH: Abu Dujana encounter one of the biggest successes of security forces, says DG CRPF']\n",
    "#sentences = [\"My name is Shashwat Sanghavi.\"]\n",
    "sentences = ['The Daman and Diu administration on Wednesday withdrew a circular that asked women staff to tie rakhis on male colleagues after the order triggered a backlash from employees and was ripped apart on social media.', 'The union territorys administration was forced to retreat within 24 hours of issuing the circular that made it compulsory for its staff to celebrate Rakshabandhan at workplace.', 'It has been decided to celebrate the festival of Rakshabandhan on August 7.', 'In this connection, all offices/ departments shall remain open and celebrate the festival collectively at a suitable time wherein all the lady staff shall tie rakhis to their colleagues, the order, issued on August 1 by Gurpreet Singh, deputy secretary (personnel), had said.', 'To ensure that no one skipped office, an attendance report was to be sent to the government the next evening.', 'The circular was withdrawn through a one-line order issued late in the evening by the UTs department of personnel and administrative reforms.', 'The circular is ridiculous.', 'There are sensitivities involved.', 'How can the government dictate who I should tie rakhi to?', 'We should maintain the professionalism of a workplace an official told Hindustan Times earlier in the day.', 'She refused to be identified.', 'The notice was issued on Daman and Diu administrator and former Gujarat home minister Praful Kodabhai Patels direction, sources said.', 'Rakshabandhan, a celebration of the bond between brothers and sisters, is one of several Hindu festivities and rituals that are no longer confined of private, family affairs but have become tools to push politic al ideologies.', 'In 2014, the year BJP stormed to power at the Centre, Rashtriya Swayamsevak Sangh (RSS) chief Mohan Bhagwat said the festival had national significance and should be celebrated widely to protect Hindu culture and live by the values enshrined in it.', 'The RSS is the ideological parent of the ruling BJP.', 'Last year, women ministers in the Modi government went to the border areas to celebrate the festival with soldiers.', 'A year before, all cabinet ministers were asked to go to their constituencies for the festival.']\n",
    "tokenized_words = []\n",
    "for s in sentences:\n",
    "    tokenized_words.append(word_tokenize(s))\n",
    "# print tokenized_words\n",
    "# Get a text from the Brown Corpus\n",
    "# sentences = brown.sents('ca01')\n",
    "\n",
    "# print(sentences)\n",
    "# [[u'The', u'Fulton', u'County', u'Grand', u'Jury', u'said', u'Friday', u'an', u'investigation', u'of', u\"Atlanta's\", u'recent', u'primary', u'election', u'produced', u'``', u'no', u'evidence', u\"''\", u'that', u'any', u'irregularities', u'took', u'place', u'.'], [u'The', u'jury', u'further', u'said', u'in', u'term-end', u'presentments', u'that', u'the', u'City', u'Executive', u'Committee', u',', u'which', u'had', u'over-all', u'charge', u'of', u'the', u'election', u',', u'``', u'deserves', u'the', u'praise', u'and', u'thanks', u'of', u'the', u'City', u'of', u'Atlanta', u\"''\", u'for', u'the', u'manner', u'in', u'which', u'the', u'election', u'was', u'conducted', u'.'], ...]\n",
    " \n",
    "print(len(sentences))  #  98\n",
    " \n",
    "# get the english list of stopwords\n",
    "stop_words = stopwords.words('english')\n",
    " \n",
    " \n",
    "def build_similarity_matrix(sentences, stopwords=None):\n",
    "    # Create an empty similarity matrix\n",
    "    S = np.zeros((len(sentences), len(sentences)))\n",
    " \n",
    " \n",
    "    for idx1 in range(len(sentences)):\n",
    "        for idx2 in range(len(sentences)):\n",
    "            if idx1 == idx2:\n",
    "                continue\n",
    " \n",
    "            S[idx1][idx2] = sentence_similarity(sentences[idx1], sentences[idx2], stop_words)\n",
    " \n",
    "    # normalize the matrix row-wise\n",
    "    for idx in range(len(S)):\n",
    "        S[idx] /= S[idx].sum()\n",
    " \n",
    "    return S\n",
    " \n",
    "S = build_similarity_matrix(sentences, stop_words) "
   ]
  },
  {
   "cell_type": "code",
   "execution_count": 19,
   "metadata": {},
   "outputs": [
    {
     "name": "stderr",
     "output_type": "stream",
     "text": [
      "C:\\Users\\shrad\\Anaconda2\\lib\\site-packages\\ipykernel_launcher.py:9: DeprecationWarning: Call to deprecated `__contains__` (Method will be removed in 4.0.0, use self.wv.__contains__() instead).\n",
      "  if __name__ == '__main__':\n",
      "C:\\Users\\shrad\\Anaconda2\\lib\\site-packages\\ipykernel_launcher.py:10: DeprecationWarning: Call to deprecated `__getitem__` (Method will be removed in 4.0.0, use self.wv.__getitem__() instead).\n",
      "  # Remove the CWD from sys.path while we load stuff.\n"
     ]
    }
   ],
   "source": [
    "def sim_scores(text):\n",
    "    v1 = np.zeros(150)\n",
    "    scores = []\n",
    "    model = Word2Vec.load('model')\n",
    "    for s in text:\n",
    "        tokenizer = RegexpTokenizer(r'\\w+')\n",
    "        sentence = tokenizer.tokenize(s)\n",
    "        for w in sentence:\n",
    "            if w in model:\n",
    "                v1 = v1 + model[w]\n",
    "        scores.append([s,v1])\n",
    "    \n",
    "    from nltk.cluster.util import cosine_distance\n",
    "\n",
    "    sim = np.zeros([len(scores),len(scores)])\n",
    "    for i in xrange(len(scores)):\n",
    "        for j in xrange(len(scores)):   \n",
    "            sim[i][j] = cosine_distance(scores[i][1],scores[j][1])\n",
    "    return sim\n",
    "\n",
    "S = sim_scores(sentences) \n",
    "#print S"
   ]
  },
  {
   "cell_type": "code",
   "execution_count": 20,
   "metadata": {
    "collapsed": true
   },
   "outputs": [],
   "source": [
    "def pagerank(A, eps=0.0001, d=0.85):\n",
    "    P = np.ones(len(A)) / len(A)\n",
    "    while True:\n",
    "        new_P = np.ones(len(A)) * (1 - d) / len(A) + d * A.T.dot(P)\n",
    "        delta = abs((new_P - P).sum())\n",
    "        print delta\n",
    "        if delta <= eps:\n",
    "            return new_P\n",
    "        P = new_P"
   ]
  },
  {
   "cell_type": "code",
   "execution_count": 21,
   "metadata": {},
   "outputs": [
    {
     "name": "stdout",
     "output_type": "stream",
     "text": [
      "6.93889390391e-17\n"
     ]
    }
   ],
   "source": [
    "def textrank(sentences,method, top_n=4, stopwords=None):\n",
    "    \"\"\"\n",
    "    sentences = a list of sentences [[w11, w12, ...], [w21, w22, ...], ...]\n",
    "    top_n = how may sentences the summary should contain\n",
    "    stopwords = a list of stopwords\n",
    "    \"\"\"\n",
    "    if method == \"word_count\":\n",
    "        S = build_similarity_matrix(sentences, stop_words)\n",
    "    elif method == \"word2vec\":    \n",
    "        S = sim_scores(sentences)\n",
    "\n",
    "    sentence_ranks = pagerank(S)\n",
    "    # Sort the sentence ranks\n",
    "    ranked_sentence_indexes = [item[0] for item in sorted(enumerate(sentence_ranks), key=lambda item: -item[1])]\n",
    "    selected_sentences = sorted(ranked_sentence_indexes[:top_n])\n",
    "    summary = itemgetter(*selected_sentences)(sentences)\n",
    "    return summary\n",
    " \n",
    "summary = []\n",
    "method = \"word_count\"\n",
    "for idx, sentence in enumerate(textrank(sentences, method,len(sentences)/5,stopwords=stopwords.words('english'))):\n",
    "    summary.append(sentence)"
   ]
  },
  {
   "cell_type": "code",
   "execution_count": 22,
   "metadata": {},
   "outputs": [
    {
     "name": "stdout",
     "output_type": "stream",
     "text": [
      "['The Daman and Diu administration on Wednesday withdrew a circular that asked women staff to tie rakhis on male colleagues after the order triggered a backlash from employees and was ripped apart on social media.', 'Rakshabandhan, a celebration of the bond between brothers and sisters, is one of several Hindu festivities and rituals that are no longer confined of private, family affairs but have become tools to push politic al ideologies.', 'In 2014, the year BJP stormed to power at the Centre, Rashtriya Swayamsevak Sangh (RSS) chief Mohan Bhagwat said the festival had national significance and should be celebrated widely to protect Hindu culture and live by the values enshrined in it.']\n"
     ]
    }
   ],
   "source": [
    "print summary"
   ]
  },
  {
   "cell_type": "code",
   "execution_count": 23,
   "metadata": {
    "collapsed": true
   },
   "outputs": [],
   "source": [
    "summary = ['The Daman and Diu administration on Wednesday withdrew a circular that asked women staff to tie rakhis on male colleagues after the order triggered a backlash from employees and was ripped apart on social media.',\n",
    " 'Rakshabandhan, a celebration of the bond between brothers and sisters, is one of several Hindu festivities and rituals that are no longer confined of private, family affairs but have become tools to push politic al ideologies.',\n",
    " 'In 2014, the year BJP stormed to power at the Centre, Rashtriya Swayamsevak Sangh (RSS) chief Mohan Bhagwat said the festival had national significance and should be celebrated widely to protect Hindu culture and live by the values enshrined in it.']\n",
    "machine_summary = \"\"\n",
    "for each in summary:\n",
    "    machine_summary = machine_summary+each+\" \""
   ]
  },
  {
   "cell_type": "code",
   "execution_count": 24,
   "metadata": {},
   "outputs": [
    {
     "data": {
      "text/plain": [
       "'The Daman and Diu administration on Wednesday withdrew a circular that asked women staff to tie rakhis on male colleagues after the order triggered a backlash from employees and was ripped apart on social media. Rakshabandhan, a celebration of the bond between brothers and sisters, is one of several Hindu festivities and rituals that are no longer confined of private, family affairs but have become tools to push politic al ideologies. In 2014, the year BJP stormed to power at the Centre, Rashtriya Swayamsevak Sangh (RSS) chief Mohan Bhagwat said the festival had national significance and should be celebrated widely to protect Hindu culture and live by the values enshrined in it. '"
      ]
     },
     "execution_count": 24,
     "metadata": {},
     "output_type": "execute_result"
    }
   ],
   "source": [
    "machine_summary"
   ]
  }
 ],
 "metadata": {
  "kernelspec": {
   "display_name": "Python 2",
   "language": "python",
   "name": "python2"
  },
  "language_info": {
   "codemirror_mode": {
    "name": "ipython",
    "version": 2
   },
   "file_extension": ".py",
   "mimetype": "text/x-python",
   "name": "python",
   "nbconvert_exporter": "python",
   "pygments_lexer": "ipython2",
   "version": "2.7.14"
  }
 },
 "nbformat": 4,
 "nbformat_minor": 2
}
