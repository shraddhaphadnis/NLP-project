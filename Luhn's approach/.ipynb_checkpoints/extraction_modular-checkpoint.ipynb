{
 "cells": [
  {
   "cell_type": "markdown",
   "metadata": {},
   "source": [
    "<h2>Import Dependencies</h2>"
   ]
  },
  {
   "cell_type": "code",
   "execution_count": 9,
   "metadata": {
    "collapsed": true
   },
   "outputs": [],
   "source": [
    "import urllib\n",
    "from bs4 import BeautifulSoup as bs\n",
    "import nltk\n",
    "import pandas  as pd\n",
    "import numpy as np\n",
    "from nltk.stem.snowball import SnowballStemmer\n",
    "from nltk import ngrams\n",
    "from nltk.tokenize import RegexpTokenizer\n",
    "from nltk.corpus import stopwords\n",
    "from collections import Counter\n",
    "from sklearn.feature_extraction.text import CountVectorizer, TfidfVectorizer\n",
    "import pandas as pd\n"
   ]
  },
  {
   "cell_type": "markdown",
   "metadata": {},
   "source": [
    "<h2> Parse and clean data </h2>"
   ]
  },
  {
   "cell_type": "code",
   "execution_count": 10,
   "metadata": {
    "collapsed": true
   },
   "outputs": [],
   "source": [
    "def clean_data(html,baseurl):\n",
    "    soup = bs(html, 'html.parser')\n",
    "    if baseurl == 'i':\n",
    "        entries = soup.find_all('div',{'class':'description'})\n",
    "    elif baseurl == 't':\n",
    "        entries = soup.find_all('div',{'itemprop':'articleBody'})\n",
    "    elif baseurl == 'h':\n",
    "        entries = soup.find_all('div',{'itemprop':'articlebody'})\n",
    "    for each in entries:\n",
    "            if each.figure:\n",
    "                each.figure.decompose()\n",
    "    content = []\n",
    "    for e in entries:\n",
    "         content.extend(e.find_all(\"p\"))\n",
    "    \n",
    "    text = \"\"\n",
    "    for each in content:\n",
    "        text = text + each.get_text() +\" \"\n",
    "\n",
    "    text = text.encode('utf-8').decode(\"unicode_escape\").encode('ascii','ignore')\n",
    "    text = nltk.sent_tokenize(text)    \n",
    "    return text"
   ]
  },
  {
   "cell_type": "markdown",
   "metadata": {},
   "source": [
    "<h2> Extraction </h2>"
   ]
  },
  {
   "cell_type": "code",
   "execution_count": 11,
   "metadata": {
    "collapsed": true
   },
   "outputs": [],
   "source": [
    "def word_scores(text):\n",
    "    # tokenize the article\n",
    "    tokenizer = RegexpTokenizer(r'\\w+')\n",
    "    word_list=[]\n",
    "    for t in text:\n",
    "        word_list.extend(tokenizer.tokenize(t))\n",
    "\n",
    "\n",
    "    # remove stop words from the article\n",
    "    filtered_words = [word for word in word_list if word.lower() not in stopwords.words('english')]\n",
    "    total_words = len(filtered_words)\n",
    "    words = filtered_words\n",
    "\n",
    "    # find n-gram probability for filtered words\n",
    "    filtered_words  = []\n",
    "    for each in Counter(words).items():\n",
    "        filtered_words.append([each[0] , float(each[1])/float(total_words)])\n",
    "\n",
    "    # identify important words\n",
    "    important_words = []\n",
    "    for item in filtered_words:\n",
    "        if item[1]>0.003:\n",
    "            important_words.append(item[0])\n",
    "\n",
    "    while '. ' in text:\n",
    "        text = text.replace('. ','\\n') \n",
    "\n",
    "    while \"\\n\" in text:\n",
    "        text = text.split(\"\\n\")\n",
    "        \n",
    "    vect = TfidfVectorizer(stop_words='english')\n",
    "    dtm = vect.fit_transform(text)\n",
    "    features = vect.get_feature_names()\n",
    "    \n",
    "    scores = zip(vect.get_feature_names(),\n",
    "                 np.asarray(dtm.sum(axis=0)).ravel())\n",
    "    sorted_scores = sorted(scores, key=lambda x: x[1], reverse=True)\n",
    "    sorted_scores = dict(sorted_scores)\n",
    "    return sorted_scores"
   ]
  },
  {
   "cell_type": "markdown",
   "metadata": {},
   "source": [
    "<h2> Sentence Score </h2>"
   ]
  },
  {
   "cell_type": "code",
   "execution_count": 12,
   "metadata": {},
   "outputs": [],
   "source": [
    "def sentence_score(text,sorted_scores):\n",
    "    sentence_score = []\n",
    "    for each in text:\n",
    "        score = 0.0\n",
    "    #     each = each.\n",
    "        for word in each.split(\" \"):\n",
    "            #print word\n",
    "            word = word.lower()\n",
    "            if word in sorted_scores:\n",
    "    #             print \"Hello\"\n",
    "                score += sorted_scores[word]\n",
    "    #             print word_scores[word]\n",
    "        sentence_score.append([each,score])    \n",
    "    return sentence_score"
   ]
  },
  {
   "cell_type": "markdown",
   "metadata": {},
   "source": [
    "<h2> Calculate Rouge </h2>"
   ]
  },
  {
   "cell_type": "code",
   "execution_count": 13,
   "metadata": {
    "collapsed": true
   },
   "outputs": [],
   "source": [
    "def rougeN(gold_summary,machine_summary,n):\n",
    "    stemmer = SnowballStemmer(\"english\")\n",
    "\n",
    "    gold_summary_slammed = \"\"\n",
    "    for word in gold_summary.split():\n",
    "        gold_summary_slammed = gold_summary_slammed+stemmer.stem(word)+\" \"\n",
    "\n",
    "\n",
    "    machine_summary_slammed = \"\"\n",
    "    for word in machine_summary.split():\n",
    "        machine_summary_slammed = machine_summary_slammed+stemmer.stem(word)+\" \"\n",
    "\n",
    "    n_gold = ngrams(gold_summary_slammed.split(\" \"),n)\n",
    "    n_machine = ngrams(machine_summary_slammed.split(\" \"),n)\n",
    "\n",
    "    gold_list = []\n",
    "\n",
    "    for gram in n_gold:\n",
    "        gold_list.append(gram)\n",
    "\n",
    "    machine_list = []\n",
    "    for gram in n_machine:\n",
    "        machine_list.append(gram)\n",
    "\n",
    "    return float(len(list(set(gold_list).intersection(machine_list))))/float(len(list(set(gold_list))))"
   ]
  },
  {
   "cell_type": "markdown",
   "metadata": {},
   "source": [
    "<h2> Find Summary </h2>"
   ]
  },
  {
   "cell_type": "code",
   "execution_count": 14,
   "metadata": {
    "collapsed": true
   },
   "outputs": [],
   "source": [
    "# def summary(SUMMARY_COMP_FACT,sentences):\n",
    "#     scores = []\n",
    "#     top_sentences = sorted(dict(sentences).items(), key=lambda x: x[1], reverse=True)[:(len(sentences)/SUMMARY_COMP_FACT)]\n",
    "#     machine_summary = \"\"\n",
    "#     for each in top_sentences:\n",
    "#         machine_summary = machine_summary + each[0]\n",
    "#     scores.append([SUMMARY_COMP_FACT, len(top_sentences), rougeN(gold_summary,machine_summary,2), rougeN(gold_summary,machine_summary,1)])"
   ]
  },
  {
   "cell_type": "code",
   "execution_count": 15,
   "metadata": {
    "collapsed": true
   },
   "outputs": [],
   "source": [
    "def summarize(sentences):\n",
    "    paired_sens = {}\n",
    "    num_sen = len(sentences)/8\n",
    "\n",
    "    for pair in enumerate(sentences):\n",
    "         paired_sens[pair[0]]=pair[1][1]\n",
    "\n",
    "    temp = sorted((paired_sens).items(), key=lambda x: x[1], reverse=True)[:int(num_sen)]\n",
    "    temp = sorted(dict(temp).items(), key=lambda x: x[0], reverse=False)[:int(num_sen)]\n",
    "    machine_summary = \"\"\n",
    "    for i in temp:\n",
    "        print sentences[i[0]][0],\"\\n\"\n",
    "        machine_summary = machine_summary +  sentences[i[0]][0] + \" \"\n",
    "    return machine_summary"
   ]
  },
  {
   "cell_type": "markdown",
   "metadata": {},
   "source": [
    "<h2> Main </h2>"
   ]
  },
  {
   "cell_type": "code",
   "execution_count": 18,
   "metadata": {},
   "outputs": [
    {
     "name": "stdout",
     "output_type": "stream",
     "text": [
      "<!DOCTYPE HTML>\n",
      "<html>\n",
      "<head><base href=\"https://n164.network-auth.com/CityView-at-Long/hi/4ShYbbKc/\" />\n",
      "<meta http-equiv=\"Content-Type\" content=\"text/html; charset=UTF-8\">\n",
      "    <meta content=\"text/html; charset=UTF-8\">\n",
      "    <meta content=\"text/html; charset=UTF-8\">\n",
      "    <meta content=\"no-cache\">\n",
      "    <meta content=\"text/html; charset=iso-8859-1\">\n",
      "    <meta name=\"viewport\" content=\"width=device-width, initial-scale=1, maximum-scale=1\">\n",
      "\n",
      "    <title>FREE WIFI - Brought To You By Equity Residential</title>\n",
      "\n",
      "    <link rel=\"stylesheet\" href=\"main.css\" type=\"text/css\">\n",
      "\n",
      "</head>\n",
      "<body>\n",
      "<div id=\"wrapper\">\n",
      "    <form method=\"post\">\n",
      "        <input type=\"hidden\" name=\"buttonClicked\" value=\"0\">\n",
      "        <input type=\"hidden\" name=\"redirect_url\" value=\"\">\n",
      "        <input type=\"hidden\" name=\"err_flag\" value=\"0\">\n",
      "\n",
      "        <h1>Sweet.</h1>\n",
      "        <h2>I heard the Wifi is free!</h2>\n",
      "\n",
      "        <div class=\"iframewrapper\">\n",
      "\n",
      "            <p><strong>WiFi Terms of Use</strong></p>\n",
      "            <p>This Agreement (“Agreement”) is between you (“you”) and Equity Residential, including its affiliates and subsidiaries (collectively, “Equity Residential”).</p>\n",
      "            <p>Please read this Agreement carefully; it explains your rights and responsibilities regarding your access to and use of this wireless internet service provided by Equity Residential through its suppliers and vendors (the \"Service\").  YOUR USE OF THE SERVICE CREATES A LEGALLY BINDING CONTRACT.  Your use and access of the Service is your consideration (the receipt and sufficiency of which is hereby acknowledged) for your agreement with the terms and conditions of this Agreement.</p>\n",
      "            <p>By utilizing this wireless connection, you agree to the terms and conditions of this Agreement.  If you do not agree, you may not use or access this Service.  By continuing, you:</p>\n",
      "            <ul>\n",
      "                <li>Accept all the terms and conditions of this Agreement;</li>\n",
      "                <li>Represent that you are at least 18 years old or, if younger, that your parent(s) or guardian(s) know of and consent to your access and use of the service;</li>\n",
      "                <li>If you are the parent or guardian of a person under the age of 18 using the Service, you consent to such access and use, and accept this Agreement; and</li>\n",
      "                <li>Acknowledge that you have read all of the terms and conditions of this Agreement, understand them, and agree to be legally bound by them.</li>\n",
      "            </ul>\n",
      "            <p><strong>YOU AGREE THAT YOU (AND NOT EQUITY RESIDENTIAL, ITS AFFILIATES, OFFICERS, TRUSTEES, EMPLOYEES, AGENTS, SUPPLIERS OR VENDORS) ARE FULLY AND SOLELY RESPONSIBLE FOR YOUR ACCESS AND USE OF THE SERVICE, YOUR CONDUCT AND ACTIVITIES WHILE USING THE SERVICE, AND ANY CONTENT, INFORMATION OR OTHER MATERIALS YOU ACCESS, DOWNLOAD, UPLOAD, PRINT, COPY OR OTHERWISE TRANSMIT, RECEIVE OR USE VIA THE SERVICE.  </strong></p>\n",
      "            <p><strong><u>Your Use</u></strong></p>\n",
      "            <p>Subject to the terms and conditions of this Agreement, Equity Residential authorizes you to use this Service.   You agree to use the Service only for lawful purposes.  Without limiting the foregoing, you are expressly prohibited from using the Service to transmit, upload, download or otherwise use, copy or distribute any unlawful, harmful, threatening, abusive, harassing, defamatory, vulgar, obscene, sexually explicit, profane, hateful, racially, ethnically or otherwise objectionable material of any kind, including without limitation, any material that encourages conduct that would constitute a criminal offense, gives rise to civil liability, constitutes “spam” or other unsolicited communications, or otherwise violates any applicable local, state, national or international law, or to falsify your identity, email address or other affiliation, or impersonate any other party, or to change or falsify the origin, domain or sender of any transmission (collectively, “Prohibited Conduct”).  You agree and acknowledge that Equity Residential is not responsible or liable to you or any other party for any Prohibited Conduct by any user of Equity Residential at any time.</p>\n",
      "            <p>Notwithstanding anything in this Agreement to the contrary, Equity Residential is in no way obligated to monitor any user's use of the Service or to monitor, retain, review and/or edit the contents of any message or content transmitted through the Service.  However, Equity Residential reserves the right, at any time, to monitor, review, retain, edit and/or disclose any information as it determines necessary, in its sole discretion, to: (i) satisfy any applicable law, regulation, legal process or governmental request; (ii) protect and defend our rights and property; (iii) enforce this Agreement; (iv) protect against misuse or unauthorized use of the Service; and (v) protect the interests of other Equity Residential users or the public.</p>\n",
      "            <p> </p>\n",
      "            <p>You understand and agree that Equity Residential may terminate, limit or suspend your access and/or use of the Service at any time, with or without notice, for any reason whatsoever including, without limitation, any Prohibited Conduct or suspected violation of this Agreement.  In the event of any Prohibited Conduct, or any other unauthorized use or illegal actions, Equity Residential shall involve and cooperate with the appropriate law enforcement or other entities.   </p>\n",
      "            <p> </p>\n",
      "            <p>You further understand and agree, that in addition to any other right or remedy available to Equity Residential in law or in equity, Equity Residential shall have the right to take any action it deems appropriate, in its sole discretion, to protect its rights and interests (and the rights or interests of its residents, employees and guests) against any violation of this Agreement, including without limitation, the right to terminate this Agreement and/or your use of the Service, with or without notice.   </p>\n",
      "            <p> </p>\n",
      "            <p>You (and not Equity Residential) shall be responsible for any and all damages to Equity Residential or any third party that are directly or indirectly the result of any Prohibited Conduct, act or omission by you, or violation of this Agreement by you.</p>\n",
      "            <p><strong><u>Security and Privacy</u></strong></p>\n",
      "            <p><strong>YOU UNDERSTAND AND AGREE THAT YOUR USE OF THE SERVICE IS ENTIRELY AT YOUR OWN RISK.</strong></p>\n",
      "            <p><strong> </strong></p>\n",
      "            <p><strong>You understand and acknowledge that the internet is not completely secure or private. Equity Residential does not guarantee that your use of the Service, or any material or message you transmit through the Service, will be private or secure. You understand that the Service provides a public internet connection and that Equity Residential is not obligated to you or any third party to utilize any security protocols with respect to the Service including, without limitation, firewalls, passwords, virus protection or other security measures (collectively, “Security Measures”).  You agree that you shall not rely on any Security Measures, even if they are in place. </strong></p>\n",
      "            <p><strong> </strong></p>\n",
      "            <p><strong>You, and not Equity Residential, are solely responsible for the security and privacy of: (a) your hardware and software; (b) your use and access of the Service; and (c) any communications, message, files or other transmissions you make via the Service.  Equity Residential is not responsible or liable to you or any third party with respect to the security or privacy of the internet, this Service or any hardware, software or other materials.  In addition, Equity Residential is not responsible for the privacy, security or content of any third party site.  </strong>You agree and acknowledge that you (and not Equity Residential) assume all risk for any dealings or transactions of any nature, including without limitation, the purchase of any products or services from, or the reliance upon any information or materials contained in, such third party sites.</p>\n",
      "            <p> </p>\n",
      "            <p><strong><u>Indemnification</u></strong></p>\n",
      "            <p>Without limiting anything in this Agreement, you agree to indemnify, defend, and hold harmless Equity Residential, its affiliates, officers, trustees, employees, agents, suppliers and vendors from and against any and all claims, actions, demands, liabilities, costs and expenses, including, without limitation, reasonable attorneys' fees, resulting from your Prohibited Conduct or any breach of any provision of this Agreement or any warranty you provide herein, or otherwise arising in any way out of your use of this Service including, without limitation, your use of the Service with respect to Security Measures that may or may not be in place.  Equity Residential has the right, but not the obligation, to take exclusive control and defense of any such claim, and you agree to cooperate with Equity Residential in such event.</p>\n",
      "            <p><strong><u>No Warranty</u></strong></p>\n",
      "            <p><strong>YOU UNDERSTAND AND AGREE THAT THE SERVICE IS OFFERED TO YOU SOLELY AS A CONVENIENCE AND IS PROVIDED “AS IS”, WITH NO WARRANTY WHATSOEVER.  EQUITY RESIDENTIAL HEREBY DISCLAIMS ALL WARRANTIES AND REPRESENTATIONS OF ANY KIND, WHETHER EXPRESS OR IMPLIED, INCLUDING WITHOUT LIMITATION, ANY WARRANTIES OF MERCHANTABILITY, FITNESS FOR A PARTICULAR PURPOSE OR NON-INFRINGEMENT.  </strong></p>\n",
      "            <p><strong>EQUITY RESIDENTIAL DOES NOT WARRANT THAT THE SERVICE AND/OR YOUR USE OF OR ACCESS TO THE SERVICE WILL BE ACCURATE, TIMELY, COMPLETE, WITHOUT ERROR, UNINTERRUPTED, DEFECT FREE, FREE OF VIRUSES OR OTHER MALICIOUS CODE, OR SECURE, OR THAT ANY ERRORS OR DEFECTS WILL BE CORRECTED, EVEN IF EQUITY RESIDENTIAL IS AWARE OF SUCH ERRORS OR DEFECTS.  </strong></p>\n",
      "            <p><strong><u> </u></strong></p>\n",
      "            <p><strong><u> </u></strong></p>\n",
      "            <p><strong><u>Limitation of Liability</u></strong></p>\n",
      "            <p><strong>UNDER NO CIRCUMSTANCES, INCLUDING WITHOUT LIMITATION, NEGLIGENCE, SHALL EQUITY RESIDENTIAL BE LIABLE FOR ANY DIRECT, INDIRECT, EXEMPLARY, SPECIAL, INCIDENTAL OR CONSEQUENTIAL DAMAGES, LOSS OF BUSINESS, PROFIT OR DATA, THAT RESULT FROM YOUR ACCESS TO OR USE OF (OR INABILITY TO ACCESS OR USE) THE SERVICE, OR FROM ANY SECURITY MEASURES (OR THE SUFFICIENCY OR LACK THEREOF) OR FOR ANY PRODUCTS, GOODS OR SERVICES PURCHASED, DOWNLOADED OR OTHERWISE TRANSMITTED VIA THE SERVICE, EVEN IF EQUITY RESIDENTIAL OR AN EQUITY RESIDENTIAL AUTHORIZED REPRESENTATIVE HAS BEEN ADVISED OF THE POSSIBILITY OF SUCH DAMAGES.  IN NO EVENT SHALL EQUITY RESIDENTIAL'S TOTAL LIABILITY TO YOU FOR ALL DAMAGES, LOSSES, AND CAUSES OF ACTION, WHETHER IN CONTRACT, TORT (INCLUDING, WITHOUT LIMITATION, NEGLIGENCE) OR OTHERWISE EXCEED TEN DOLLARS ($10).  APPLICABLE LAW MAY NOT ALLOW THE LIMITATION OR EXCLUSION OF LIABILITY OR INCIDENTAL OR CONSEQUENTIAL DAMAGES, SO THE ABOVE LIMITATION OR EXCLUSION MAY NOT APPLY TO YOU.</strong></p>\n",
      "            <p><strong><u>Miscellaneous</u></strong></p>\n",
      "            <p>Equity Residential also reserves the right to modify, amend, update or change this Agreement at any time, with or without notice.  You are encouraged to periodically review this Agreement.  Your access to or use of the Service after any such modification, amendment, update or change of this Agreement shall serve as your acceptance and agreement of such modification, amendment, update or change.</p>\n",
      "            <p>This Agreement and your access and use of the Service shall be governed by the laws of the state of Illinois, without regard to any conflicts of law provision thereof, and the exclusive jurisdiction and venue for all claims brought by you related to this Agreement shall be the state and federal courts located in such state.  Any claim related to this Agreement must be brought by you within one year from the date such claim arose.  If any provision of this Agreement shall be unlawful, void, or for any reason unenforceable, then that provision shall be deemed severable from this Agreement and shall not affect the validity and enforceability of any remaining provisions.  This is the entire agreement between the parties relating to the subject matter herein.</p>\n",
      "\n",
      "        </div>\n",
      "\n",
      "        <div class=\"formfield\">\n",
      "            <a href=\"https://n164.network-auth.com/CityView-at-Long/hi/4ShYbbKc/grant?continue_url=http://www.equityapartments.com\" onclick = \"javascript:(function() {\n",
      "          var _request = new XMLHttpRequest();\n",
      "          var url = 'https://n164.network-auth.com/CityView-at-Long/hi/4ShYbbKc/grant?continue_url=CONTINUE_URL_PLACEHOLDER';\n",
      "          _request.open('HEAD', window.location, true);\n",
      "          _request.setRequestHeader('X-Requested-With', 'XMLHttpRequest');\n",
      "          _request.onreadystatechange = function() {\n",
      "            if (_request.readyState === 4) {\n",
      "              var continue_url = _request.getResponseHeader('Continue-Url');\n",
      "              window.location.href = url.replace('CONTINUE_URL_PLACEHOLDER', continue_url);\n",
      "            };\n",
      "          };\n",
      "          _request.send(null);\n",
      "        })(); return false;\">Accept</a>\n",
      "        </div>\n",
      "\n",
      "    </form>\n",
      "</div>\n",
      "<div class=\"footer\">\n",
      "    <p>Brought to you by <img src=\"eqrlogo.png\"></p>\n",
      "</div>\n",
      "      <script type=\"text/javascript\" charset=\"utf-8\">\n",
      "              function update_form_action_from_headers(form) {\n",
      "        var _request = new XMLHttpRequest();\n",
      "        var url = 'https://n164.network-auth.com/CityView-at-Long/hi/4ShYbbKc/login?continue_url=CONTINUE_URL_PLACEHOLDER';\n",
      "        _request.open('HEAD', window.location, true);\n",
      "        _request.setRequestHeader('X-Requested-With', 'XMLHttpRequest');\n",
      "        _request.onreadystatechange = function() {\n",
      "          if (_request.readyState === 4) {\n",
      "            var continue_url = _request.getResponseHeader('Continue-Url');\n",
      "            form.action = url.replace('CONTINUE_URL_PLACEHOLDER', continue_url);\n",
      "            form.submit();\n",
      "          }\n",
      "        }\n",
      "        _request.send(null);\n",
      "        return false;\n",
      "      }\n",
      "\n",
      "      </script>\n",
      "\n",
      "</body>\n",
      "</html>\n",
      "\n"
     ]
    },
    {
     "ename": "ValueError",
     "evalue": "empty vocabulary; perhaps the documents only contain stop words",
     "output_type": "error",
     "traceback": [
      "\u001b[0;31m---------------------------------------------------------------------------\u001b[0m",
      "\u001b[0;31mValueError\u001b[0m                                Traceback (most recent call last)",
      "\u001b[0;32m<ipython-input-18-70927c7b3d7d>\u001b[0m in \u001b[0;36m<module>\u001b[0;34m()\u001b[0m\n\u001b[1;32m     18\u001b[0m \u001b[0;34m\u001b[0m\u001b[0m\n\u001b[1;32m     19\u001b[0m \u001b[0;34m\u001b[0m\u001b[0m\n\u001b[0;32m---> 20\u001b[0;31m \u001b[0mws\u001b[0m \u001b[0;34m=\u001b[0m \u001b[0mword_scores\u001b[0m\u001b[0;34m(\u001b[0m\u001b[0mtext\u001b[0m\u001b[0;34m)\u001b[0m\u001b[0;34m\u001b[0m\u001b[0m\n\u001b[0m\u001b[1;32m     21\u001b[0m \u001b[0;34m\u001b[0m\u001b[0m\n\u001b[1;32m     22\u001b[0m \u001b[0mss\u001b[0m \u001b[0;34m=\u001b[0m \u001b[0msentence_score\u001b[0m\u001b[0;34m(\u001b[0m\u001b[0mtext\u001b[0m\u001b[0;34m,\u001b[0m\u001b[0mws\u001b[0m\u001b[0;34m)\u001b[0m\u001b[0;34m\u001b[0m\u001b[0m\n",
      "\u001b[0;32m<ipython-input-11-30eeb6ae6282>\u001b[0m in \u001b[0;36mword_scores\u001b[0;34m(text)\u001b[0m\n\u001b[1;32m     30\u001b[0m \u001b[0;34m\u001b[0m\u001b[0m\n\u001b[1;32m     31\u001b[0m     \u001b[0mvect\u001b[0m \u001b[0;34m=\u001b[0m \u001b[0mTfidfVectorizer\u001b[0m\u001b[0;34m(\u001b[0m\u001b[0mstop_words\u001b[0m\u001b[0;34m=\u001b[0m\u001b[0;34m'english'\u001b[0m\u001b[0;34m)\u001b[0m\u001b[0;34m\u001b[0m\u001b[0m\n\u001b[0;32m---> 32\u001b[0;31m     \u001b[0mdtm\u001b[0m \u001b[0;34m=\u001b[0m \u001b[0mvect\u001b[0m\u001b[0;34m.\u001b[0m\u001b[0mfit_transform\u001b[0m\u001b[0;34m(\u001b[0m\u001b[0mtext\u001b[0m\u001b[0;34m)\u001b[0m\u001b[0;34m\u001b[0m\u001b[0m\n\u001b[0m\u001b[1;32m     33\u001b[0m     \u001b[0mfeatures\u001b[0m \u001b[0;34m=\u001b[0m \u001b[0mvect\u001b[0m\u001b[0;34m.\u001b[0m\u001b[0mget_feature_names\u001b[0m\u001b[0;34m(\u001b[0m\u001b[0;34m)\u001b[0m\u001b[0;34m\u001b[0m\u001b[0m\n\u001b[1;32m     34\u001b[0m \u001b[0;34m\u001b[0m\u001b[0m\n",
      "\u001b[0;32m/home/shashwat/anaconda2/lib/python2.7/site-packages/sklearn/feature_extraction/text.pyc\u001b[0m in \u001b[0;36mfit_transform\u001b[0;34m(self, raw_documents, y)\u001b[0m\n\u001b[1;32m   1379\u001b[0m             \u001b[0mTf\u001b[0m\u001b[0;34m-\u001b[0m\u001b[0midf\u001b[0m\u001b[0;34m-\u001b[0m\u001b[0mweighted\u001b[0m \u001b[0mdocument\u001b[0m\u001b[0;34m-\u001b[0m\u001b[0mterm\u001b[0m \u001b[0mmatrix\u001b[0m\u001b[0;34m.\u001b[0m\u001b[0;34m\u001b[0m\u001b[0m\n\u001b[1;32m   1380\u001b[0m         \"\"\"\n\u001b[0;32m-> 1381\u001b[0;31m         \u001b[0mX\u001b[0m \u001b[0;34m=\u001b[0m \u001b[0msuper\u001b[0m\u001b[0;34m(\u001b[0m\u001b[0mTfidfVectorizer\u001b[0m\u001b[0;34m,\u001b[0m \u001b[0mself\u001b[0m\u001b[0;34m)\u001b[0m\u001b[0;34m.\u001b[0m\u001b[0mfit_transform\u001b[0m\u001b[0;34m(\u001b[0m\u001b[0mraw_documents\u001b[0m\u001b[0;34m)\u001b[0m\u001b[0;34m\u001b[0m\u001b[0m\n\u001b[0m\u001b[1;32m   1382\u001b[0m         \u001b[0mself\u001b[0m\u001b[0;34m.\u001b[0m\u001b[0m_tfidf\u001b[0m\u001b[0;34m.\u001b[0m\u001b[0mfit\u001b[0m\u001b[0;34m(\u001b[0m\u001b[0mX\u001b[0m\u001b[0;34m)\u001b[0m\u001b[0;34m\u001b[0m\u001b[0m\n\u001b[1;32m   1383\u001b[0m         \u001b[0;31m# X is already a transformed view of raw_documents so\u001b[0m\u001b[0;34m\u001b[0m\u001b[0;34m\u001b[0m\u001b[0m\n",
      "\u001b[0;32m/home/shashwat/anaconda2/lib/python2.7/site-packages/sklearn/feature_extraction/text.pyc\u001b[0m in \u001b[0;36mfit_transform\u001b[0;34m(self, raw_documents, y)\u001b[0m\n\u001b[1;32m    867\u001b[0m \u001b[0;34m\u001b[0m\u001b[0m\n\u001b[1;32m    868\u001b[0m         vocabulary, X = self._count_vocab(raw_documents,\n\u001b[0;32m--> 869\u001b[0;31m                                           self.fixed_vocabulary_)\n\u001b[0m\u001b[1;32m    870\u001b[0m \u001b[0;34m\u001b[0m\u001b[0m\n\u001b[1;32m    871\u001b[0m         \u001b[0;32mif\u001b[0m \u001b[0mself\u001b[0m\u001b[0;34m.\u001b[0m\u001b[0mbinary\u001b[0m\u001b[0;34m:\u001b[0m\u001b[0;34m\u001b[0m\u001b[0m\n",
      "\u001b[0;32m/home/shashwat/anaconda2/lib/python2.7/site-packages/sklearn/feature_extraction/text.pyc\u001b[0m in \u001b[0;36m_count_vocab\u001b[0;34m(self, raw_documents, fixed_vocab)\u001b[0m\n\u001b[1;32m    809\u001b[0m             \u001b[0mvocabulary\u001b[0m \u001b[0;34m=\u001b[0m \u001b[0mdict\u001b[0m\u001b[0;34m(\u001b[0m\u001b[0mvocabulary\u001b[0m\u001b[0;34m)\u001b[0m\u001b[0;34m\u001b[0m\u001b[0m\n\u001b[1;32m    810\u001b[0m             \u001b[0;32mif\u001b[0m \u001b[0;32mnot\u001b[0m \u001b[0mvocabulary\u001b[0m\u001b[0;34m:\u001b[0m\u001b[0;34m\u001b[0m\u001b[0m\n\u001b[0;32m--> 811\u001b[0;31m                 raise ValueError(\"empty vocabulary; perhaps the documents only\"\n\u001b[0m\u001b[1;32m    812\u001b[0m                                  \" contain stop words\")\n\u001b[1;32m    813\u001b[0m \u001b[0;34m\u001b[0m\u001b[0m\n",
      "\u001b[0;31mValueError\u001b[0m: empty vocabulary; perhaps the documents only contain stop words"
     ]
    }
   ],
   "source": [
    "df = pd.read_csv('news_summary.csv')\n",
    "i = 112\n",
    "url = df['read_more'][i]\n",
    "gold_summary = df['text'][i]\n",
    "if \"indiatoday\" in url or \"intoday\" in url:\n",
    "    baseurl = \"i\"\n",
    "elif \"hindustantimes\" in url:\n",
    "    baseurl = \"h\"\n",
    "elif \"theguardian\" in url:\n",
    "    baseurl = \"t\"\n",
    "\n",
    "file = urllib.urlopen(url)\n",
    "html = file.read()\n",
    "\n",
    "\n",
    "text = clean_data(html,baseurl)\n",
    "\n",
    "\n",
    "ws = word_scores(text)\n",
    "\n",
    "ss = sentence_score(text,ws)\n",
    "\n",
    "print ss"
   ]
  },
  {
   "cell_type": "code",
   "execution_count": null,
   "metadata": {
    "collapsed": true
   },
   "outputs": [],
   "source": []
  }
 ],
 "metadata": {
  "kernelspec": {
   "display_name": "Python 3",
   "language": "python",
   "name": "python3"
  },
  "language_info": {
   "codemirror_mode": {
    "name": "ipython",
    "version": 2
   },
   "file_extension": ".py",
   "mimetype": "text/x-python",
   "name": "python",
   "nbconvert_exporter": "python",
   "pygments_lexer": "ipython2",
   "version": "2.7.14"
  }
 },
 "nbformat": 4,
 "nbformat_minor": 2
}
