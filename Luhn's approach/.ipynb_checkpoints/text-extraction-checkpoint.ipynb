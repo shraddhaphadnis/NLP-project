{
 "cells": [
  {
   "cell_type": "markdown",
   "metadata": {},
   "source": [
    "Import Dependencies"
   ]
  },
  {
   "cell_type": "code",
   "execution_count": 2,
   "metadata": {
    "collapsed": true
   },
   "outputs": [],
   "source": [
    "import urllib\n",
    "from bs4 import BeautifulSoup as bs\n",
    "import nltk\n",
    "import pandas  as pd"
   ]
  },
  {
   "cell_type": "code",
   "execution_count": 3,
   "metadata": {
    "collapsed": true
   },
   "outputs": [],
   "source": [
    "df = pd.read_csv('news_summary.csv')\n",
    "i = 0"
   ]
  },
  {
   "cell_type": "markdown",
   "metadata": {},
   "source": [
    "Extract data from html files"
   ]
  },
  {
   "cell_type": "code",
   "execution_count": 4,
   "metadata": {},
   "outputs": [],
   "source": [
    "url = df['read_more'][i]\n",
    "gold_summary = df['text'][i]\n",
    "if \"indiatoday\" in url or \"intoday\" in url:\n",
    "    baseurl = \"i\"\n",
    "elif \"hindustantimes\" in url:\n",
    "    baseurl = \"h\"\n",
    "elif \"theguardian\" in url:\n",
    "    baseurl = \"t\"\n",
    "file = urllib.urlopen(url)\n",
    "html = file.read()"
   ]
  },
  {
   "cell_type": "markdown",
   "metadata": {},
   "source": [
    "<h2>Parse the data to extract article text</h2>"
   ]
  },
  {
   "cell_type": "code",
   "execution_count": 5,
   "metadata": {},
   "outputs": [
    {
     "name": "stdout",
     "output_type": "stream",
     "text": [
      "The Daman and Diu administration on Wednesday withdrew a circular that asked women staff to tie rakhis on male colleagues after the order triggered a backlash from employees and was ripped apart on social media. \n",
      "\n",
      "The union territorys administration was forced to retreat within 24 hours of issuing the circular that made it compulsory for its staff to celebrate Rakshabandhan at workplace. \n",
      "\n",
      "It has been decided to celebrate the festival of Rakshabandhan on August 7. \n",
      "\n",
      "In this connection, all offices/ departments shall remain open and celebrate the festival collectively at a suitable time wherein all the lady staff shall tie rakhis to their colleagues, the order, issued on August 1 by Gurpreet Singh, deputy secretary (personnel), had said. \n",
      "\n",
      "To ensure that no one skipped office, an attendance report was to be sent to the government the next evening. \n",
      "\n",
      "The circular was withdrawn through a one-line order issued late in the evening by the UTs department of personnel and administrative reforms. \n",
      "\n",
      "The circular is ridiculous. \n",
      "\n",
      "There are sensitivities involved. \n",
      "\n",
      "How can the government dictate who I should tie rakhi to? \n",
      "\n",
      "We should maintain the professionalism of a workplace an official told Hindustan Times earlier in the day. \n",
      "\n",
      "She refused to be identified. \n",
      "\n",
      "The notice was issued on Daman and Diu administrator and former Gujarat home minister Praful Kodabhai Patels direction, sources said. \n",
      "\n",
      "Rakshabandhan, a celebration of the bond between brothers and sisters, is one of several Hindu festivities and rituals that are no longer confined of private, family affairs but have become tools to push politic al ideologies. \n",
      "\n",
      "In 2014, the year BJP stormed to power at the Centre, Rashtriya Swayamsevak Sangh (RSS) chief Mohan Bhagwat said the festival had national significance and should be celebrated widely to protect Hindu culture and live by the values enshrined in it. \n",
      "\n",
      "The RSS is the ideological parent of the ruling BJP. \n",
      "\n",
      "Last year, women ministers in the Modi government went to the border areas to celebrate the festival with soldiers. \n",
      "\n",
      "A year before, all cabinet ministers were asked to go to their constituencies for the festival. \n",
      "\n"
     ]
    }
   ],
   "source": [
    "soup = bs(html, 'html.parser')\n",
    "\n",
    "if baseurl == \"i\":\n",
    "    entries = soup.find_all('div',{'class':'description'})\n",
    "elif baseurl == \"t\":\n",
    "    entries = soup.find_all('div',{'itemprop':'articleBody'})\n",
    "elif baseurl == \"h\":\n",
    "    entries = soup.find_all('div',{'itemprop':'articlebody'})\n",
    "\n",
    "for each in entries:\n",
    "        if each.figure:\n",
    "            each.figure.decompose()\n",
    "content = []\n",
    "for e in entries:\n",
    "     content.extend(e.find_all(\"p\"))\n",
    "\n",
    "text = \"\"\n",
    "for each in content:\n",
    "    text = text + each.get_text() +\" \"\n",
    "    \n",
    "text = text.encode('utf-8').decode(\"unicode_escape\").encode('ascii','ignore')\n",
    "text = nltk.sent_tokenize(text)    \n",
    "    \n",
    "for each in text:\n",
    "    print each , \"\\n\""
   ]
  },
  {
   "cell_type": "markdown",
   "metadata": {},
   "source": [
    "Start extraction"
   ]
  },
  {
   "cell_type": "code",
   "execution_count": 6,
   "metadata": {
    "collapsed": true
   },
   "outputs": [],
   "source": [
    "from nltk.tokenize import RegexpTokenizer\n",
    "from nltk.corpus import stopwords\n",
    "from collections import Counter"
   ]
  },
  {
   "cell_type": "code",
   "execution_count": 12,
   "metadata": {},
   "outputs": [
    {
     "name": "stdout",
     "output_type": "stream",
     "text": [
      "17\n",
      "16.0\n",
      "In this connection, all offices/ departments shall remain open and celebrate the festival collectively at a suitable time wherein all the lady staff shall tie rakhis to their colleagues, the order, issued on August 1 by Gurpreet Singh, deputy secretary (personnel), had said.\n",
      "\n",
      "In 2014, the year BJP stormed to power at the Centre, Rashtriya Swayamsevak Sangh (RSS) chief Mohan Bhagwat said the festival had national significance and should be celebrated widely to protect Hindu culture and live by the values enshrined in it.\n",
      "\n",
      "The Daman and Diu administration on Wednesday withdrew a circular that asked women staff to tie rakhis on male colleagues after the order triggered a backlash from employees and was ripped apart on social media.\n",
      "\n",
      "Rakshabandhan, a celebration of the bond between brothers and sisters, is one of several Hindu festivities and rituals that are no longer confined of private, family affairs but have become tools to push politic al ideologies.\n",
      "\n",
      "In this connection, all offices/ departments shall remain open and celebrate the festival collectively at a suitable time wherein all the lady staff shall tie rakhis to their colleagues, the order, issued on August 1 by Gurpreet Singh, deputy secretary (personnel), had said. In 2014, the year BJP stormed to power at the Centre, Rashtriya Swayamsevak Sangh (RSS) chief Mohan Bhagwat said the festival had national significance and should be celebrated widely to protect Hindu culture and live by the values enshrined in it. The Daman and Diu administration on Wednesday withdrew a circular that asked women staff to tie rakhis on male colleagues after the order triggered a backlash from employees and was ripped apart on social media. Rakshabandhan, a celebration of the bond between brothers and sisters, is one of several Hindu festivities and rituals that are no longer confined of private, family affairs but have become tools to push politic al ideologies. \n"
     ]
    }
   ],
   "source": [
    "# tokenize the article\n",
    "tokenizer = RegexpTokenizer(r'\\w+')\n",
    "word_list=[]\n",
    "for t in text:\n",
    "    word_list.extend(tokenizer.tokenize(t))\n",
    "\n",
    "\n",
    "# remove stop words from the article\n",
    "filtered_words = [word for word in word_list if word.lower() not in stopwords.words('english')]\n",
    "total_words = len(filtered_words)\n",
    "words = filtered_words\n",
    "\n",
    "# find n-gram probability for filtered words\n",
    "filtered_words  = []\n",
    "for each in Counter(words).items():\n",
    "    filtered_words.append([each[0] , float(each[1])/float(total_words)])\n",
    "\n",
    "# identify important words\n",
    "important_words = []\n",
    "for item in filtered_words:\n",
    "    if item[1]>0.003:\n",
    "        important_words.append(item[0])\n",
    "\n",
    "while '. ' in text:\n",
    "    text = text.replace('. ','\\n') \n",
    "# calculate sentence score\n",
    "while \"\\n\" in text:\n",
    "    text = text.split(\"\\n\")\n",
    "\n",
    "sentenceScore  = []\n",
    "for sentence in text:\n",
    "    score = 0\n",
    "    count = 0\n",
    "    for word in important_words:\n",
    "        if word not in stopwords.words('english'):\n",
    "            count = count +1\n",
    "        if word in sentence and word not in stopwords.words('english'):\n",
    "            score = score + 1\n",
    "            count = count + 1\n",
    "    sentenceScore.append([sentence,float(score)/float(len(sentence))**(1/2)])\n",
    "\n",
    "# extract top n/5 sentences (n is total number of sentences in the text)\n",
    "sen = sentenceScore\n",
    "sentenceScore.sort(key=lambda x: x[1], reverse=True)\n",
    "print len(sentenceScore)\n",
    "cutScore = sentenceScore[len(sentenceScore)/3][1]\n",
    "print cutScore\n",
    "count = 0\n",
    "machine_summary = \"\"\n",
    "\n",
    "for sentence in sen:\n",
    "    if sentence[1]>cutScore:\n",
    "        print sentence[0] + \"\\n\"\n",
    "        machine_summary = machine_summary + sentence[0] + \" \"\n",
    "\n",
    "\n",
    "print machine_summary"
   ]
  },
  {
   "cell_type": "code",
   "execution_count": 13,
   "metadata": {},
   "outputs": [
    {
     "name": "stdout",
     "output_type": "stream",
     "text": [
      "The Administration of Union Territory Daman and Diu has revoked its order that made it compulsory for women to tie rakhis to their male colleagues on the occasion of Rakshabandhan on August 7. The administration was forced to withdraw the decision within 24 hours of issuing the circular after it received flak from employees and was slammed on social media.\n"
     ]
    }
   ],
   "source": [
    "print gold_summary"
   ]
  },
  {
   "cell_type": "code",
   "execution_count": 14,
   "metadata": {},
   "outputs": [
    {
     "name": "stdout",
     "output_type": "stream",
     "text": [
      "0.220338983051\n"
     ]
    }
   ],
   "source": [
    "from nltk.stem.snowball import SnowballStemmer\n",
    "from nltk import ngrams\n",
    "\n",
    "n = 2\n",
    "\n",
    "stemmer = SnowballStemmer(\"english\")\n",
    "\n",
    "gold_summary_slammed = \"\"\n",
    "for word in gold_summary.split():\n",
    "\tgold_summary_slammed = gold_summary_slammed+stemmer.stem(word)+\" \"\n",
    "\n",
    "\n",
    "machine_summary_slammed = \"\"\n",
    "for word in machine_summary.split():\n",
    "\tmachine_summary_slammed = machine_summary_slammed+stemmer.stem(word)+\" \"\n",
    "\n",
    "n_gold = ngrams(gold_summary_slammed.split(\" \"),n)\n",
    "n_machine = ngrams(machine_summary_slammed.split(\" \"),n)\n",
    "\n",
    "gold_list = []\n",
    "\n",
    "for gram in n_gold:\n",
    "\tgold_list.append(gram)\n",
    "\n",
    "machine_list = []\n",
    "for gram in n_machine:\n",
    "\tmachine_list.append(gram)\n",
    "\n",
    "print float(len(list(set(gold_list).intersection(machine_list))))/float(len(list(set(gold_list))))"
   ]
  },
  {
   "cell_type": "code",
   "execution_count": null,
   "metadata": {
    "collapsed": true
   },
   "outputs": [],
   "source": []
  },
  {
   "cell_type": "code",
   "execution_count": null,
   "metadata": {
    "collapsed": true
   },
   "outputs": [],
   "source": []
  },
  {
   "cell_type": "code",
   "execution_count": null,
   "metadata": {
    "collapsed": true
   },
   "outputs": [],
   "source": []
  }
 ],
 "metadata": {
  "kernelspec": {
   "display_name": "Python 2",
   "language": "python",
   "name": "python2"
  },
  "language_info": {
   "codemirror_mode": {
    "name": "ipython",
    "version": 2
   },
   "file_extension": ".py",
   "mimetype": "text/x-python",
   "name": "python",
   "nbconvert_exporter": "python",
   "pygments_lexer": "ipython2",
   "version": "2.7.14"
  }
 },
 "nbformat": 4,
 "nbformat_minor": 2
}
