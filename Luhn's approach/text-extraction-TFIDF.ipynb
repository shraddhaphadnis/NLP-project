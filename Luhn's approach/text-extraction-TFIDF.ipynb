{
 "cells": [
  {
   "cell_type": "markdown",
   "metadata": {},
   "source": [
    "Import Dependencies"
   ]
  },
  {
   "cell_type": "code",
   "execution_count": 337,
   "metadata": {
    "collapsed": true
   },
   "outputs": [],
   "source": [
    "import urllib\n",
    "from bs4 import BeautifulSoup as bs\n",
    "import nltk\n",
    "import pandas  as pd"
   ]
  },
  {
   "cell_type": "code",
   "execution_count": 362,
   "metadata": {},
   "outputs": [],
   "source": [
    "df = pd.read_csv('news_summary.csv')\n",
    "i = 2"
   ]
  },
  {
   "cell_type": "markdown",
   "metadata": {},
   "source": [
    "Extract data from html files"
   ]
  },
  {
   "cell_type": "code",
   "execution_count": 363,
   "metadata": {
    "collapsed": true
   },
   "outputs": [],
   "source": [
    "url = df['read_more'][i]\n",
    "gold_summary = df['text'][i]\n",
    "if \"indiatoday\" in url or \"intoday\" in url:\n",
    "    baseurl = \"i\"\n",
    "elif \"hindustantimes\" in url:\n",
    "    baseurl = \"h\"\n",
    "elif \"theguardian\" in url:\n",
    "    baseurl = \"t\"\n",
    "file = urllib.urlopen(url)\n",
    "html = file.read()"
   ]
  },
  {
   "cell_type": "markdown",
   "metadata": {},
   "source": [
    "<h2>Parse the data to extract article text</h2>"
   ]
  },
  {
   "cell_type": "code",
   "execution_count": 364,
   "metadata": {},
   "outputs": [
    {
     "name": "stdout",
     "output_type": "stream",
     "text": [
      "The Indira Gandhi Institute of Medical Sciences (IGIMS) in Patna amended its marital declaration form on Thursday, replacing the word virgin with unmarried after controversy. Until now, new recruits to the super-specialty medical institute in the state capital were required to declare if they were bachelors, widowers or virgins. IGIMS medical superintendent Dr Manish Mandal said institute director Dr NR Biswas held a meeting on Thursday morning before directing that the word virgin on the marital declaration form be immediately replaced with unmarried. Dr Biswas had just returned after a four-day leave of absence. Earlier, Bihar health minister Mangal Pandey had ended up redefining the very meaning of virginity in his attempts to justify the awkward phrasing of the question in the form. Following a public furore over the document on Wednesday, the minister told news channels that there was nothing wrong with using the word virgin because it simply meant kanya or kunwari  which means an unmarried girl. Pandey had joined the cabinet just three days ago. Sources said the chief ministers office had also taken cognizance of the issue, and asked for a copy of the form. It had even asked why the question was introduced in the first place. In its response, the management of the autonomous super-specialty health facility had clarified on Wednesday that it was in adherence to the central civil services rules followed by the All India Institute of Medical Sciences in New Delhi. The marital declaration form had been in existence since the inception of the institute in 1983. Some officials blamed the faux pas on poor translation on the part of individuals who drafted the document. The word virgin mentioned on the form had nothing to do with the virginity of any employee. It only sought to know the employees marital status, so their dues could be settled on the basis of their declaration in the event of death while in service, said Dr Mandal. \n"
     ]
    }
   ],
   "source": [
    "soup = bs(html, 'html.parser')\n",
    "\n",
    "if baseurl == \"i\":\n",
    "    entries = soup.find_all('div',{'class':'description'})\n",
    "elif baseurl == \"t\":\n",
    "    entries = soup.find_all('div',{'itemprop':'articleBody'})\n",
    "elif baseurl == \"h\":\n",
    "    entries = soup.find_all('div',{'itemprop':'articlebody'})\n",
    "\n",
    "for each in entries:\n",
    "        if each.figure:\n",
    "            each.figure.decompose()\n",
    "content = []\n",
    "for e in entries:\n",
    "     content.extend(e.find_all(\"p\"))\n",
    "\n",
    "text = \"\"\n",
    "for each in content:\n",
    "    text = text + each.get_text() +\" \"\n",
    "    \n",
    "text = text.encode('utf-8').decode(\"unicode_escape\").encode('ascii','ignore')\n",
    "print text\n",
    "text = nltk.sent_tokenize(text)    \n",
    "    \n",
    "# for each in text:\n",
    "#     print each , \"\\n\""
   ]
  },
  {
   "cell_type": "markdown",
   "metadata": {},
   "source": [
    "Start extraction"
   ]
  },
  {
   "cell_type": "code",
   "execution_count": 365,
   "metadata": {
    "collapsed": true
   },
   "outputs": [],
   "source": [
    "from nltk.tokenize import RegexpTokenizer\n",
    "from nltk.corpus import stopwords\n",
    "from collections import Counter"
   ]
  },
  {
   "cell_type": "code",
   "execution_count": 366,
   "metadata": {},
   "outputs": [
    {
     "name": "stdout",
     "output_type": "stream",
     "text": [
      "['The Indira Gandhi Institute of Medical Sciences (IGIMS) in Patna amended its marital declaration form on Thursday, replacing the word virgin with unmarried after controversy.', 'Until now, new recruits to the super-specialty medical institute in the state capital were required to declare if they were bachelors, widowers or virgins.', 'IGIMS medical superintendent Dr Manish Mandal said institute director Dr NR Biswas held a meeting on Thursday morning before directing that the word virgin on the marital declaration form be immediately replaced with unmarried.', 'Dr Biswas had just returned after a four-day leave of absence.', 'Earlier, Bihar health minister Mangal Pandey had ended up redefining the very meaning of virginity in his attempts to justify the awkward phrasing of the question in the form.', 'Following a public furore over the document on Wednesday, the minister told news channels that there was nothing wrong with using the word virgin because it simply meant kanya or kunwari  which means an unmarried girl.', 'Pandey had joined the cabinet just three days ago.', 'Sources said the chief ministers office had also taken cognizance of the issue, and asked for a copy of the form.', 'It had even asked why the question was introduced in the first place.', 'In its response, the management of the autonomous super-specialty health facility had clarified on Wednesday that it was in adherence to the central civil services rules followed by the All India Institute of Medical Sciences in New Delhi.', 'The marital declaration form had been in existence since the inception of the institute in 1983.', 'Some officials blamed the faux pas on poor translation on the part of individuals who drafted the document.', 'The word virgin mentioned on the form had nothing to do with the virginity of any employee.', 'It only sought to know the employees marital status, so their dues could be settled on the basis of their declaration in the event of death while in service, said Dr Mandal.']\n"
     ]
    }
   ],
   "source": [
    "# tokenize the article\n",
    "tokenizer = RegexpTokenizer(r'\\w+')\n",
    "word_list=[]\n",
    "for t in text:\n",
    "    word_list.extend(tokenizer.tokenize(t))\n",
    "\n",
    "\n",
    "# remove stop words from the article\n",
    "filtered_words = [word for word in word_list if word.lower() not in stopwords.words('english')]\n",
    "total_words = len(filtered_words)\n",
    "words = filtered_words\n",
    "\n",
    "# find n-gram probability for filtered words\n",
    "filtered_words  = []\n",
    "for each in Counter(words).items():\n",
    "    filtered_words.append([each[0] , float(each[1])/float(total_words)])\n",
    "\n",
    "# identify important words\n",
    "important_words = []\n",
    "for item in filtered_words:\n",
    "    if item[1]>0.003:\n",
    "        important_words.append(item[0])\n",
    "\n",
    "while '. ' in text:\n",
    "    text = text.replace('. ','\\n') \n",
    "# calculate sentence score\n",
    "while \"\\n\" in text:\n",
    "    text = text.split(\"\\n\")\n",
    "\n",
    "print text\n",
    "\n",
    "\n",
    "# sentenceScore  = []\n",
    "# for sentence in text:\n",
    "#     score = 0\n",
    "#     count = 0\n",
    "#     for word in important_words:\n",
    "#         if word not in stopwords.words('english'):\n",
    "#             count = count +1\n",
    "#         if word in sentence and word not in stopwords.words('english'):\n",
    "#             score = score + 1\n",
    "#             count = count + 1\n",
    "#     sentenceScore.append([sentence,float(score)/float(len(sentence))**(1/2)])\n",
    "\n",
    "# # extract top n/5 sentences (n is total number of sentences in the text)\n",
    "# sen = sentenceScore\n",
    "# sentenceScore.sort(key=lambda x: x[1], reverse=True)\n",
    "# print len(sentenceScore)\n",
    "# cutScore = sentenceScore[len(sentenceScore)/5][1]\n",
    "# print cutScore\n",
    "# count = 0\n",
    "# machine_summary = \"\"\n",
    "\n",
    "# for sentence in sen:\n",
    "#     if sentence[1]>cutScore:\n",
    "#         print sentence[0] + \"\\n\"\n",
    "#         machine_summary = machine_summary + sentence[0] + \" \"\n",
    "\n",
    "\n",
    "# print machine_summary"
   ]
  },
  {
   "cell_type": "code",
   "execution_count": 367,
   "metadata": {
    "collapsed": true
   },
   "outputs": [],
   "source": [
    "from sklearn.feature_extraction.text import CountVectorizer, TfidfVectorizer\n",
    "import pandas as pd"
   ]
  },
  {
   "cell_type": "code",
   "execution_count": 368,
   "metadata": {
    "collapsed": true
   },
   "outputs": [],
   "source": [
    "vect = TfidfVectorizer(stop_words='english')\n",
    "dtm = vect.fit_transform(text)\n",
    "features = vect.get_feature_names()"
   ]
  },
  {
   "cell_type": "code",
   "execution_count": 369,
   "metadata": {},
   "outputs": [
    {
     "name": "stdout",
     "output_type": "stream",
     "text": [
      "[[ 0.          0.          0.         ...,  0.          0.20086869  0.        ]\n",
      " [ 0.          0.          0.         ...,  0.29966644  0.          0.        ]\n",
      " [ 0.          0.          0.         ...,  0.          0.15673749  0.        ]\n",
      " ..., \n",
      " [ 0.          0.          0.         ...,  0.          0.          0.        ]\n",
      " [ 0.          0.          0.         ...,  0.          0.34546787  0.        ]\n",
      " [ 0.          0.          0.         ...,  0.          0.          0.        ]]\n"
     ]
    }
   ],
   "source": [
    "print dtm.toarray()"
   ]
  },
  {
   "cell_type": "code",
   "execution_count": 370,
   "metadata": {},
   "outputs": [
    {
     "name": "stdout",
     "output_type": "stream",
     "text": [
      "form                                               Score: 1.20307416209\n",
      "institute                                          Score: 0.957979323844\n",
      "dr                                                 Score: 0.873207740823\n",
      "declaration                                        Score: 0.871956740827\n",
      "marital                                            Score: 0.871956740827\n",
      "virgin                                             Score: 0.868017020437\n",
      "word                                               Score: 0.868017020437\n",
      "asked                                              Score: 0.740885786724\n",
      "medical                                            Score: 0.728546379931\n",
      "just                                               Score: 0.719802601636\n",
      "question                                           Score: 0.693354734939\n",
      "virginity                                          Score: 0.660159839907\n",
      "said                                               Score: 0.635248655106\n",
      "pandey                                             Score: 0.599716787038\n",
      "unmarried                                          Score: 0.578111329075\n",
      "biswas                                             Score: 0.545576200051\n",
      "introduced                                         Score: 0.534658022786\n",
      "place                                              Score: 0.534658022786\n",
      "document                                           Score: 0.497703567582\n",
      "employee                                           Score: 0.496305169544\n",
      "mentioned                                          Score: 0.496305169544\n",
      "new                                                Score: 0.461231170805\n",
      "specialty                                          Score: 0.461231170805\n",
      "super                                              Score: 0.461231170805\n",
      "1983                                               Score: 0.460547838369\n",
      "existence                                          Score: 0.460547838369\n",
      "inception                                          Score: 0.460547838369\n",
      "sciences                                           Score: 0.451628325633\n",
      "igims                                              Score: 0.444651518924\n",
      "thursday                                           Score: 0.444651518924\n",
      "mandal                                             Score: 0.435828194458\n",
      "minister                                           Score: 0.435693156507\n",
      "health                                             Score: 0.432467192161\n",
      "ago                                                Score: 0.426470228542\n",
      "cabinet                                            Score: 0.426470228542\n",
      "days                                               Score: 0.426470228542\n",
      "joined                                             Score: 0.426470228542\n",
      "wednesday                                          Score: 0.406957872109\n",
      "absence                                            Score: 0.405178237791\n",
      "day                                                Score: 0.405178237791\n",
      "leave                                              Score: 0.405178237791\n",
      "returned                                           Score: 0.405178237791\n",
      "blamed                                             Score: 0.338078841149\n",
      "drafted                                            Score: 0.338078841149\n",
      "faux                                               Score: 0.338078841149\n",
      "individuals                                        Score: 0.338078841149\n",
      "officials                                          Score: 0.338078841149\n",
      "pas                                                Score: 0.338078841149\n",
      "poor                                               Score: 0.338078841149\n",
      "translation                                        Score: 0.338078841149\n",
      "chief                                              Score: 0.321349619943\n",
      "cognizance                                         Score: 0.321349619943\n",
      "copy                                               Score: 0.321349619943\n",
      "issue                                              Score: 0.321349619943\n",
      "ministers                                          Score: 0.321349619943\n",
      "office                                             Score: 0.321349619943\n",
      "sources                                            Score: 0.321349619943\n",
      "taken                                              Score: 0.321349619943\n",
      "bachelors                                          Score: 0.299666442416\n",
      "capital                                            Score: 0.299666442416\n",
      "declare                                            Score: 0.299666442416\n",
      "recruits                                           Score: 0.299666442416\n",
      "required                                           Score: 0.299666442416\n",
      "state                                              Score: 0.299666442416\n",
      "virgins                                            Score: 0.299666442416\n",
      "widowers                                           Score: 0.299666442416\n",
      "amended                                            Score: 0.288571467986\n",
      "controversy                                        Score: 0.288571467986\n",
      "gandhi                                             Score: 0.288571467986\n",
      "indira                                             Score: 0.288571467986\n",
      "patna                                              Score: 0.288571467986\n",
      "replacing                                          Score: 0.288571467986\n",
      "basis                                              Score: 0.278377139369\n",
      "death                                              Score: 0.278377139369\n",
      "dues                                               Score: 0.278377139369\n",
      "employees                                          Score: 0.278377139369\n",
      "event                                              Score: 0.278377139369\n",
      "know                                               Score: 0.278377139369\n",
      "service                                            Score: 0.278377139369\n",
      "settled                                            Score: 0.278377139369\n",
      "sought                                             Score: 0.278377139369\n",
      "status                                             Score: 0.278377139369\n",
      "attempts                                           Score: 0.266432999428\n",
      "awkward                                            Score: 0.266432999428\n",
      "bihar                                              Score: 0.266432999428\n",
      "earlier                                            Score: 0.266432999428\n",
      "ended                                              Score: 0.266432999428\n",
      "justify                                            Score: 0.266432999428\n",
      "mangal                                             Score: 0.266432999428\n",
      "meaning                                            Score: 0.266432999428\n",
      "phrasing                                           Score: 0.266432999428\n",
      "redefining                                         Score: 0.266432999428\n",
      "channels                                           Score: 0.23695993716\n",
      "following                                          Score: 0.23695993716\n",
      "furore                                             Score: 0.23695993716\n",
      "girl                                               Score: 0.23695993716\n",
      "kanya                                              Score: 0.23695993716\n",
      "kunwari                                            Score: 0.23695993716\n",
      "means                                              Score: 0.23695993716\n",
      "meant                                              Score: 0.23695993716\n",
      "news                                               Score: 0.23695993716\n",
      "public                                             Score: 0.23695993716\n",
      "simply                                             Score: 0.23695993716\n",
      "told                                               Score: 0.23695993716\n",
      "using                                              Score: 0.23695993716\n",
      "wrong                                              Score: 0.23695993716\n",
      "adherence                                          Score: 0.233232709313\n",
      "autonomous                                         Score: 0.233232709313\n",
      "central                                            Score: 0.233232709313\n",
      "civil                                              Score: 0.233232709313\n",
      "clarified                                          Score: 0.233232709313\n",
      "delhi                                              Score: 0.233232709313\n",
      "facility                                           Score: 0.233232709313\n",
      "followed                                           Score: 0.233232709313\n",
      "india                                              Score: 0.233232709313\n",
      "management                                         Score: 0.233232709313\n",
      "response                                           Score: 0.233232709313\n",
      "rules                                              Score: 0.233232709313\n",
      "services                                           Score: 0.233232709313\n",
      "directing                                          Score: 0.225171817917\n",
      "director                                           Score: 0.225171817917\n",
      "held                                               Score: 0.225171817917\n",
      "immediately                                        Score: 0.225171817917\n",
      "manish                                             Score: 0.225171817917\n",
      "meeting                                            Score: 0.225171817917\n",
      "morning                                            Score: 0.225171817917\n",
      "nr                                                 Score: 0.225171817917\n",
      "replaced                                           Score: 0.225171817917\n",
      "superintendent                                     Score: 0.225171817917\n"
     ]
    }
   ],
   "source": [
    "scores = zip(vect.get_feature_names(),\n",
    "                 np.asarray(dtm.sum(axis=0)).ravel())\n",
    "sorted_scores = sorted(scores, key=lambda x: x[1], reverse=True)\n",
    "for item in sorted_scores:\n",
    "    print \"{0:50} Score: {1}\".format(item[0], item[1])"
   ]
  },
  {
   "cell_type": "code",
   "execution_count": 371,
   "metadata": {},
   "outputs": [],
   "source": [
    "# import numpy as np\n",
    "\n",
    "# #review_id = np.random.randint(0, len(text))\n",
    "# review_text = words\n",
    "# review_length = len(words)\n",
    "\n",
    "# # create a dictionary of words and their TF-IDF scores\n",
    "# word_scores = {}\n",
    "# for word in words:\n",
    "# #     word = word.lower()\n",
    "#     if word in features:\n",
    "# #         print word\n",
    "# #         print dtm[review_id, features.index(word)]\n",
    "#          #word_scores[word] = dtm[review_id, features.index(word)]\n",
    "#          word_scores[word] = dtm[10, features.index(word)]\n",
    "\n",
    "# print word_scores\n",
    "# # print words with the top 5 TF-IDF scores\n",
    "# print 'TOP SCORING WORDS:'\n",
    "# top_scores = sorted(word_scores.items(), key=lambda x: x[1], reverse=True)[:10]\n",
    "# for word, score in top_scores:\n",
    "#     print word"
   ]
  },
  {
   "cell_type": "code",
   "execution_count": 372,
   "metadata": {},
   "outputs": [],
   "source": [
    "sorted_scores = dict(sorted_scores)\n"
   ]
  },
  {
   "cell_type": "code",
   "execution_count": 373,
   "metadata": {},
   "outputs": [],
   "source": [
    "sentence_score = []\n",
    "for each in text:\n",
    "    score = 0.0\n",
    "#     each = each.\n",
    "    for word in each.split(\" \"):\n",
    "        #print word\n",
    "        word = word.lower()\n",
    "        if word in sorted_scores:\n",
    "#             print \"Hello\"\n",
    "            score += sorted_scores[word]\n",
    "#             print word_scores[word]\n",
    "    sentence_score.append([each,score])    \n",
    "        "
   ]
  },
  {
   "cell_type": "code",
   "execution_count": 374,
   "metadata": {},
   "outputs": [],
   "source": [
    "machine_summary = \"\"\n",
    "sentences = []\n",
    "for each in sentence_score:\n",
    "    if each[1] != 0.0:\n",
    "        machine_summary = machine_summary + each[0]\n",
    "        sentences.append([each[0],each[1]])\n",
    "        "
   ]
  },
  {
   "cell_type": "code",
   "execution_count": 381,
   "metadata": {},
   "outputs": [
    {
     "name": "stdout",
     "output_type": "stream",
     "text": [
      "('IGIMS medical superintendent Dr Manish Mandal said institute director Dr NR Biswas held a meeting on Thursday morning before directing that the word virgin on the marital declaration form be immediately replaced with unmarried.', 12.873637136668265)\n",
      "('The Indira Gandhi Institute of Medical Sciences (IGIMS) in Patna amended its marital declaration form on Thursday, replacing the word virgin with unmarried after controversy.', 8.8421443830275166)\n"
     ]
    }
   ],
   "source": [
    "top_sentences = sorted(dict(sentences).items(), key=lambda x: x[1], reverse=True)[:2]\n",
    "machine_summary = \"\"\n",
    "for each in top_sentences:\n",
    "    print each\n",
    "    machine_summary = machine_summary + each[0]\n",
    "    #print top_sentences[each],each"
   ]
  },
  {
   "cell_type": "code",
   "execution_count": 382,
   "metadata": {},
   "outputs": [
    {
     "name": "stdout",
     "output_type": "stream",
     "text": [
      "The Indira Gandhi Institute of Medical Sciences (IGIMS) in Patna on Thursday made corrections in its Marital Declaration Form by changing 'Virgin' option to 'Unmarried'. Earlier, Bihar Health Minister defined virgin as being an unmarried woman and did not consider the term objectionable. The institute, however, faced strong backlash for asking new recruits to declare their virginity in the form.\n"
     ]
    }
   ],
   "source": [
    "print gold_summary\n"
   ]
  },
  {
   "cell_type": "code",
   "execution_count": 384,
   "metadata": {},
   "outputs": [
    {
     "name": "stdout",
     "output_type": "stream",
     "text": [
      "0.384615384615\n"
     ]
    }
   ],
   "source": [
    "from nltk.stem.snowball import SnowballStemmer\n",
    "from nltk import ngrams\n",
    "\n",
    "n = 1\n",
    "\n",
    "stemmer = SnowballStemmer(\"english\")\n",
    "\n",
    "gold_summary_slammed = \"\"\n",
    "for word in gold_summary.split():\n",
    "    gold_summary_slammed = gold_summary_slammed+stemmer.stem(word)+\" \"\n",
    "\n",
    "\n",
    "machine_summary_slammed = \"\"\n",
    "for word in machine_summary.split():\n",
    "    machine_summary_slammed = machine_summary_slammed+stemmer.stem(word)+\" \"\n",
    "\n",
    "n_gold = ngrams(gold_summary_slammed.split(\" \"),n)\n",
    "n_machine = ngrams(machine_summary_slammed.split(\" \"),n)\n",
    "\n",
    "gold_list = []\n",
    "\n",
    "for gram in n_gold:\n",
    "    gold_list.append(gram)\n",
    "\n",
    "machine_list = []\n",
    "for gram in n_machine:\n",
    "    machine_list.append(gram)\n",
    "\n",
    "print float(len(list(set(gold_list).intersection(machine_list))))/float(len(list(set(gold_list))))"
   ]
  },
  {
   "cell_type": "code",
   "execution_count": null,
   "metadata": {
    "collapsed": true
   },
   "outputs": [],
   "source": []
  },
  {
   "cell_type": "code",
   "execution_count": null,
   "metadata": {
    "collapsed": true
   },
   "outputs": [],
   "source": []
  }
 ],
 "metadata": {
  "kernelspec": {
   "display_name": "Python 2",
   "language": "python",
   "name": "python2"
  },
  "language_info": {
   "codemirror_mode": {
    "name": "ipython",
    "version": 2
   },
   "file_extension": ".py",
   "mimetype": "text/x-python",
   "name": "python",
   "nbconvert_exporter": "python",
   "pygments_lexer": "ipython2",
   "version": "2.7.14"
  }
 },
 "nbformat": 4,
 "nbformat_minor": 2
}
